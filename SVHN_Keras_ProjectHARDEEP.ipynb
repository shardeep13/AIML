{
 "cells": [
  {
   "cell_type": "code",
   "execution_count": 2,
   "metadata": {},
   "outputs": [
    {
     "name": "stdout",
     "output_type": "stream",
     "text": [
      "WARNING:tensorflow:From C:\\Users\\shard\\Anaconda3\\lib\\site-packages\\tensorflow_core\\python\\compat\\v2_compat.py:65: disable_resource_variables (from tensorflow.python.ops.variable_scope) is deprecated and will be removed in a future version.\n",
      "Instructions for updating:\n",
      "non-resource variables are not supported in the long term\n"
     ]
    }
   ],
   "source": [
    "from tensorflow.python.framework import ops\n",
    "ops.reset_default_graph()\n",
    "\n",
    "import tensorflow.compat.v1 as tf\n",
    "tf.disable_v2_behavior() ### Load tensorFlow\n",
    "\n",
    "#import tensorflow as tf\n",
    "#tf.reset_default_graph()\n",
    "tf.set_random_seed(42)"
   ]
  },
  {
   "cell_type": "markdown",
   "metadata": {
    "slideshow": {
     "slide_type": "slide"
    }
   },
   "source": [
    "### Collect Data"
   ]
  },
  {
   "cell_type": "code",
   "execution_count": 3,
   "metadata": {},
   "outputs": [
    {
     "name": "stdout",
     "output_type": "stream",
     "text": [
      "<KeysViewHDF5 ['X_test', 'X_train', 'X_val', 'y_test', 'y_train', 'y_val']>\n"
     ]
    }
   ],
   "source": [
    "# Read hdf5 file having the dataset\n",
    "\n",
    "import numpy as np\n",
    "import h5py\n",
    "\n",
    "hf = h5py.File('SVHN_single_grey1.h5', 'r')\n",
    "\n",
    "print(hf.keys())"
   ]
  },
  {
   "cell_type": "code",
   "execution_count": 3,
   "metadata": {},
   "outputs": [],
   "source": [
    "# # normalize inputs from 0-255 to 0-1\n",
    "X_train = hf.get('X_train')\n",
    "trainX = np.array(X_train)\n",
    "\n",
    "# normalize inputs from 0-255 to 0-1\n",
    "trainX = trainX / 255.0"
   ]
  },
  {
   "cell_type": "code",
   "execution_count": 4,
   "metadata": {},
   "outputs": [
    {
     "data": {
      "text/plain": [
       "(42000,)"
      ]
     },
     "execution_count": 4,
     "metadata": {},
     "output_type": "execute_result"
    }
   ],
   "source": [
    "y_train = hf.get('y_train')\n",
    "trainY = np.array(y_train)\n",
    "trainY.shape"
   ]
  },
  {
   "cell_type": "code",
   "execution_count": 5,
   "metadata": {},
   "outputs": [],
   "source": [
    "X_test = hf.get('X_test')\n",
    "testX = np.array(X_test)\n",
    "\n",
    "# normalize inputs from 0-255 to 0-1\n",
    "testX = testX / 255.0"
   ]
  },
  {
   "cell_type": "code",
   "execution_count": 6,
   "metadata": {},
   "outputs": [
    {
     "data": {
      "text/plain": [
       "(18000,)"
      ]
     },
     "execution_count": 6,
     "metadata": {},
     "output_type": "execute_result"
    }
   ],
   "source": [
    "y_test = hf.get('y_test')\n",
    "testY = np.array(y_test)\n",
    "testY.shape"
   ]
  },
  {
   "cell_type": "code",
   "execution_count": 1,
   "metadata": {},
   "outputs": [
    {
     "ename": "NameError",
     "evalue": "name 'hf' is not defined",
     "output_type": "error",
     "traceback": [
      "\u001b[1;31m---------------------------------------------------------------------------\u001b[0m",
      "\u001b[1;31mNameError\u001b[0m                                 Traceback (most recent call last)",
      "\u001b[1;32m<ipython-input-1-9bebea8c99f3>\u001b[0m in \u001b[0;36m<module>\u001b[1;34m\u001b[0m\n\u001b[1;32m----> 1\u001b[1;33m \u001b[0mhf\u001b[0m\u001b[1;33m.\u001b[0m\u001b[0mclose\u001b[0m\u001b[1;33m(\u001b[0m\u001b[1;33m)\u001b[0m\u001b[1;33m\u001b[0m\u001b[1;33m\u001b[0m\u001b[0m\n\u001b[0m",
      "\u001b[1;31mNameError\u001b[0m: name 'hf' is not defined"
     ]
    }
   ],
   "source": [
    "hf.close()"
   ]
  },
  {
   "cell_type": "code",
   "execution_count": 7,
   "metadata": {},
   "outputs": [
    {
     "data": {
      "text/plain": [
       "(42000, 32, 32)"
      ]
     },
     "execution_count": 7,
     "metadata": {},
     "output_type": "execute_result"
    }
   ],
   "source": [
    "trainX.shape"
   ]
  },
  {
   "cell_type": "code",
   "execution_count": 8,
   "metadata": {},
   "outputs": [
    {
     "data": {
      "text/plain": [
       "(42000,)"
      ]
     },
     "execution_count": 8,
     "metadata": {},
     "output_type": "execute_result"
    }
   ],
   "source": [
    "trainY.shape"
   ]
  },
  {
   "cell_type": "code",
   "execution_count": 9,
   "metadata": {},
   "outputs": [],
   "source": [
    "#One hot encode the train and test targets\n",
    "trainY = tf.keras.utils.to_categorical(trainY, num_classes=10)\n",
    "testY = tf.keras.utils.to_categorical(testY, num_classes=10)"
   ]
  },
  {
   "cell_type": "code",
   "execution_count": 10,
   "metadata": {},
   "outputs": [
    {
     "data": {
      "text/plain": [
       "(42000, 10)"
      ]
     },
     "execution_count": 10,
     "metadata": {},
     "output_type": "execute_result"
    }
   ],
   "source": [
    "trainY.shape"
   ]
  },
  {
   "cell_type": "code",
   "execution_count": 11,
   "metadata": {},
   "outputs": [
    {
     "data": {
      "text/plain": [
       "(42000, 10)"
      ]
     },
     "execution_count": 11,
     "metadata": {},
     "output_type": "execute_result"
    }
   ],
   "source": [
    "trainY.shape"
   ]
  },
  {
   "cell_type": "markdown",
   "metadata": {
    "slideshow": {
     "slide_type": "slide"
    }
   },
   "source": [
    "## Build the Graph"
   ]
  },
  {
   "cell_type": "code",
   "execution_count": 12,
   "metadata": {},
   "outputs": [
    {
     "name": "stdout",
     "output_type": "stream",
     "text": [
      "WARNING:tensorflow:From C:\\Users\\shard\\Anaconda3\\lib\\site-packages\\tensorflow_core\\python\\ops\\resource_variable_ops.py:1630: calling BaseResourceVariable.__init__ (from tensorflow.python.ops.resource_variable_ops) with constraint is deprecated and will be removed in a future version.\n",
      "Instructions for updating:\n",
      "If using Keras pass *_constraint arguments to layers.\n"
     ]
    }
   ],
   "source": [
    "#Initialize Sequential model\n",
    "model = tf.keras.models.Sequential()\n",
    "\n",
    "#Reshape data from 2D to 1D -> 28x28 to 784\n",
    "model.add(tf.keras.layers.Reshape((1024,),input_shape=(32,32,)))\n",
    "model.add(tf.keras.layers.BatchNormalization())\n",
    "model.add(tf.keras.layers.Dense(200, activation='relu'))\n",
    "model.add(tf.keras.layers.Dropout(0.2))\n",
    "\n",
    "model.add(tf.keras.layers.BatchNormalization())\n",
    "model.add(tf.keras.layers.Dense(200, activation='relu'))\n",
    "model.add(tf.keras.layers.Dropout(0.2))\n",
    "\n",
    "model.add(tf.keras.layers.BatchNormalization())\n",
    "model.add(tf.keras.layers.Dense(100, activation='relu'))\n",
    "model.add(tf.keras.layers.Dropout(0.2))\n",
    "\n",
    "model.add(tf.keras.layers.BatchNormalization())\n",
    "model.add(tf.keras.layers.Dense(10, activation='softmax'))"
   ]
  },
  {
   "cell_type": "code",
   "execution_count": 13,
   "metadata": {
    "slideshow": {
     "slide_type": "fragment"
    }
   },
   "outputs": [],
   "source": [
    "#Create optimizer with non-default learning rate\n",
    "\n",
    "# Run 1 - Test Accuracy - 78%\n",
    "#sgd_optimizer = tf.keras.optimizers.SGD(lr=0.03)\n",
    "\n",
    "\n",
    "# Run 2 - Test Accuracy - 84%\n",
    "#adam_optimizer = tf.keras.optimizers.Adam(learning_rate=0.03)\n",
    "\n",
    "# Run 3 - Test Accuracy - 87%\n",
    "adam_optimizer = tf.keras.optimizers.Adam(learning_rate=0.001)\n",
    "\n",
    "\n",
    "#Compile the model\n",
    "model.compile(optimizer = adam_optimizer, loss='categorical_crossentropy', metrics=['accuracy'])"
   ]
  },
  {
   "cell_type": "markdown",
   "metadata": {
    "slideshow": {
     "slide_type": "slide"
    }
   },
   "source": [
    "## Review model"
   ]
  },
  {
   "cell_type": "code",
   "execution_count": 14,
   "metadata": {},
   "outputs": [
    {
     "name": "stdout",
     "output_type": "stream",
     "text": [
      "Model: \"sequential\"\n",
      "_________________________________________________________________\n",
      "Layer (type)                 Output Shape              Param #   \n",
      "=================================================================\n",
      "reshape (Reshape)            (None, 1024)              0         \n",
      "_________________________________________________________________\n",
      "batch_normalization (BatchNo (None, 1024)              4096      \n",
      "_________________________________________________________________\n",
      "dense (Dense)                (None, 200)               205000    \n",
      "_________________________________________________________________\n",
      "dropout (Dropout)            (None, 200)               0         \n",
      "_________________________________________________________________\n",
      "batch_normalization_1 (Batch (None, 200)               800       \n",
      "_________________________________________________________________\n",
      "dense_1 (Dense)              (None, 200)               40200     \n",
      "_________________________________________________________________\n",
      "dropout_1 (Dropout)          (None, 200)               0         \n",
      "_________________________________________________________________\n",
      "batch_normalization_2 (Batch (None, 200)               800       \n",
      "_________________________________________________________________\n",
      "dense_2 (Dense)              (None, 100)               20100     \n",
      "_________________________________________________________________\n",
      "dropout_2 (Dropout)          (None, 100)               0         \n",
      "_________________________________________________________________\n",
      "batch_normalization_3 (Batch (None, 100)               400       \n",
      "_________________________________________________________________\n",
      "dense_3 (Dense)              (None, 10)                1010      \n",
      "=================================================================\n",
      "Total params: 272,406\n",
      "Trainable params: 269,358\n",
      "Non-trainable params: 3,048\n",
      "_________________________________________________________________\n"
     ]
    }
   ],
   "source": [
    "model.summary()"
   ]
  },
  {
   "cell_type": "markdown",
   "metadata": {
    "slideshow": {
     "slide_type": "slide"
    }
   },
   "source": [
    "## Train the model"
   ]
  },
  {
   "cell_type": "code",
   "execution_count": 15,
   "metadata": {},
   "outputs": [
    {
     "name": "stdout",
     "output_type": "stream",
     "text": [
      "Train on 42000 samples, validate on 18000 samples\n",
      "Epoch 1/30\n",
      "42000/42000 [==============================] - 14s 344us/sample - loss: 1.7721 - acc: 0.3990 - val_loss: 1.0677 - val_acc: 0.6723\n",
      "Epoch 2/30\n",
      "42000/42000 [==============================] - 14s 340us/sample - loss: 1.2140 - acc: 0.6110 - val_loss: 0.9128 - val_acc: 0.7175\n",
      "Epoch 3/30\n",
      "42000/42000 [==============================] - 14s 344us/sample - loss: 1.0652 - acc: 0.6644 - val_loss: 0.7860 - val_acc: 0.7639\n",
      "Epoch 4/30\n",
      "42000/42000 [==============================] - 15s 348us/sample - loss: 0.9792 - acc: 0.6888 - val_loss: 0.7222 - val_acc: 0.7803\n",
      "Epoch 5/30\n",
      "42000/42000 [==============================] - 15s 354us/sample - loss: 0.9181 - acc: 0.7114 - val_loss: 0.6743 - val_acc: 0.7986\n",
      "Epoch 6/30\n",
      "42000/42000 [==============================] - 14s 322us/sample - loss: 0.8663 - acc: 0.7266 - val_loss: 0.6757 - val_acc: 0.7911\n",
      "Epoch 7/30\n",
      "42000/42000 [==============================] - 14s 328us/sample - loss: 0.8254 - acc: 0.7405 - val_loss: 0.6300 - val_acc: 0.8102\n",
      "Epoch 8/30\n",
      "42000/42000 [==============================] - 14s 335us/sample - loss: 0.7925 - acc: 0.7497 - val_loss: 0.6031 - val_acc: 0.8179\n",
      "Epoch 9/30\n",
      "42000/42000 [==============================] - 13s 302us/sample - loss: 0.7724 - acc: 0.7554 - val_loss: 0.5988 - val_acc: 0.8167\n",
      "Epoch 10/30\n",
      "42000/42000 [==============================] - 13s 305us/sample - loss: 0.7488 - acc: 0.7623 - val_loss: 0.5722 - val_acc: 0.8276\n",
      "Epoch 11/30\n",
      "42000/42000 [==============================] - 13s 300us/sample - loss: 0.7338 - acc: 0.7680 - val_loss: 0.5593 - val_acc: 0.8327\n",
      "Epoch 12/30\n",
      "42000/42000 [==============================] - 13s 314us/sample - loss: 0.7249 - acc: 0.7708 - val_loss: 0.5521 - val_acc: 0.8312\n",
      "Epoch 13/30\n",
      "42000/42000 [==============================] - 13s 301us/sample - loss: 0.7012 - acc: 0.7788 - val_loss: 0.5632 - val_acc: 0.8264\n",
      "Epoch 14/30\n",
      "42000/42000 [==============================] - 13s 321us/sample - loss: 0.6887 - acc: 0.7828 - val_loss: 0.5336 - val_acc: 0.8390\n",
      "Epoch 15/30\n",
      "42000/42000 [==============================] - 13s 306us/sample - loss: 0.6708 - acc: 0.7885 - val_loss: 0.5281 - val_acc: 0.8421\n",
      "Epoch 16/30\n",
      "42000/42000 [==============================] - 13s 314us/sample - loss: 0.6717 - acc: 0.7900 - val_loss: 0.5160 - val_acc: 0.8446\n",
      "Epoch 17/30\n",
      "42000/42000 [==============================] - 14s 325us/sample - loss: 0.6518 - acc: 0.7960 - val_loss: 0.5237 - val_acc: 0.8407\n",
      "Epoch 18/30\n",
      "42000/42000 [==============================] - 13s 307us/sample - loss: 0.6503 - acc: 0.7938 - val_loss: 0.4954 - val_acc: 0.8524\n",
      "Epoch 19/30\n",
      "42000/42000 [==============================] - 13s 313us/sample - loss: 0.6397 - acc: 0.7995 - val_loss: 0.4933 - val_acc: 0.8530\n",
      "Epoch 20/30\n",
      "42000/42000 [==============================] - 12s 295us/sample - loss: 0.6287 - acc: 0.8017 - val_loss: 0.4948 - val_acc: 0.8499\n",
      "Epoch 21/30\n",
      "42000/42000 [==============================] - 13s 303us/sample - loss: 0.6304 - acc: 0.8025 - val_loss: 0.4903 - val_acc: 0.8513\n",
      "Epoch 22/30\n",
      "42000/42000 [==============================] - 13s 299us/sample - loss: 0.6224 - acc: 0.8033 - val_loss: 0.4756 - val_acc: 0.8579\n",
      "Epoch 23/30\n",
      "42000/42000 [==============================] - 13s 302us/sample - loss: 0.6136 - acc: 0.8066 - val_loss: 0.4907 - val_acc: 0.8529\n",
      "Epoch 24/30\n",
      "42000/42000 [==============================] - 13s 306us/sample - loss: 0.6023 - acc: 0.8091 - val_loss: 0.4770 - val_acc: 0.8562\n",
      "Epoch 25/30\n",
      "42000/42000 [==============================] - 12s 290us/sample - loss: 0.6073 - acc: 0.8092 - val_loss: 0.4649 - val_acc: 0.8607\n",
      "Epoch 26/30\n",
      "42000/42000 [==============================] - 12s 294us/sample - loss: 0.5948 - acc: 0.8123 - val_loss: 0.4719 - val_acc: 0.8587\n",
      "Epoch 27/30\n",
      "42000/42000 [==============================] - 12s 291us/sample - loss: 0.5938 - acc: 0.8135 - val_loss: 0.4782 - val_acc: 0.8542\n",
      "Epoch 28/30\n",
      "42000/42000 [==============================] - 13s 300us/sample - loss: 0.5888 - acc: 0.8137 - val_loss: 0.4713 - val_acc: 0.8593\n",
      "Epoch 29/30\n",
      "42000/42000 [==============================] - 13s 298us/sample - loss: 0.5757 - acc: 0.8168 - val_loss: 0.4594 - val_acc: 0.8617\n",
      "Epoch 30/30\n",
      "42000/42000 [==============================] - 13s 305us/sample - loss: 0.5774 - acc: 0.8166 - val_loss: 0.4621 - val_acc: 0.8621\n"
     ]
    },
    {
     "data": {
      "text/plain": [
       "<tensorflow.python.keras.callbacks.History at 0x1d2212951d0>"
      ]
     },
     "execution_count": 15,
     "metadata": {},
     "output_type": "execute_result"
    }
   ],
   "source": [
    "model.fit(trainX,trainY, validation_data=(testX,testY), epochs=30, batch_size=64)"
   ]
  },
  {
   "cell_type": "code",
   "execution_count": 16,
   "metadata": {},
   "outputs": [
    {
     "data": {
      "text/plain": [
       "<Figure size 640x480 with 1 Axes>"
      ]
     },
     "metadata": {},
     "output_type": "display_data"
    },
    {
     "data": {
      "text/plain": [
       "<Figure size 640x480 with 1 Axes>"
      ]
     },
     "metadata": {},
     "output_type": "display_data"
    }
   ],
   "source": [
    "import matplotlib.pyplot as plt\n",
    "d = model.history.history\n",
    "\n",
    "plt.plot(d['acc'])\n",
    "plt.plot(d['val_acc'])\n",
    "plt.title('model accuracy')\n",
    "plt.ylabel('accuracy')\n",
    "plt.xlabel('epoch')\n",
    "plt.legend(['train', 'test'], loc='upper left')\n",
    "plt.show()\n",
    "\n",
    "plt.plot(d['loss'])\n",
    "plt.plot(d['val_loss'])\n",
    "plt.title('model loss')\n",
    "plt.ylabel('loss')\n",
    "plt.xlabel('epoch')\n",
    "plt.legend(['train', 'test'], loc='upper left')\n",
    "plt.show() "
   ]
  },
  {
   "cell_type": "code",
   "execution_count": 17,
   "metadata": {},
   "outputs": [
    {
     "name": "stdout",
     "output_type": "stream",
     "text": [
      "18000/18000 [==============================] - 2s 139us/sample - loss: 0.4621 - acc: 0.8621\n"
     ]
    }
   ],
   "source": [
    "results = model.evaluate(testX, testY)\n"
   ]
  },
  {
   "cell_type": "code",
   "execution_count": 18,
   "metadata": {},
   "outputs": [],
   "source": [
    "predY_cls = model.predict_classes(testX, batch_size=200, verbose=0)"
   ]
  },
  {
   "cell_type": "code",
   "execution_count": 19,
   "metadata": {},
   "outputs": [
    {
     "name": "stdout",
     "output_type": "stream",
     "text": [
      "[0 7 2 ... 7 9 2]\n"
     ]
    }
   ],
   "source": [
    "print(predY_cls)"
   ]
  },
  {
   "cell_type": "code",
   "execution_count": 20,
   "metadata": {},
   "outputs": [
    {
     "name": "stdout",
     "output_type": "stream",
     "text": [
      "[1 7 2 ... 7 9 2]\n"
     ]
    }
   ],
   "source": [
    "print(np.array(y_test))"
   ]
  },
  {
   "cell_type": "code",
   "execution_count": 21,
   "metadata": {},
   "outputs": [],
   "source": [
    "from sklearn.metrics import confusion_matrix, f1_score, classification_report"
   ]
  },
  {
   "cell_type": "code",
   "execution_count": 22,
   "metadata": {},
   "outputs": [
    {
     "data": {
      "text/plain": [
       "array([[1636,   24,    5,   13,   18,    5,   23,   20,   19,   51],\n",
       "       [  30, 1624,   14,   23,   45,    9,   16,   24,   18,   25],\n",
       "       [  18,   31, 1530,   37,   26,   15,    7,   57,   25,   57],\n",
       "       [  10,   37,   27, 1424,   24,   98,   14,   21,   37,   27],\n",
       "       [  19,   54,   18,   13, 1607,   16,   18,    9,    8,   50],\n",
       "       [   9,   17,    7,   87,   10, 1503,   54,    8,   32,   41],\n",
       "       [  30,   24,   13,   22,   30,   57, 1567,    6,   55,   28],\n",
       "       [  22,   66,   29,   27,   18,   10,    7, 1590,   10,   29],\n",
       "       [  22,   43,   14,   44,   25,   29,   87,    8, 1474,   66],\n",
       "       [  35,   37,   13,   35,   17,   44,   15,   18,   27, 1563]],\n",
       "      dtype=int64)"
      ]
     },
     "execution_count": 22,
     "metadata": {},
     "output_type": "execute_result"
    }
   ],
   "source": [
    "confusion_matrix(np.array(y_test), predY_cls)"
   ]
  },
  {
   "cell_type": "code",
   "execution_count": 23,
   "metadata": {},
   "outputs": [
    {
     "data": {
      "text/plain": [
       "0.862251514979578"
      ]
     },
     "execution_count": 23,
     "metadata": {},
     "output_type": "execute_result"
    }
   ],
   "source": [
    "f1_score(np.array(y_test), predY_cls, average='weighted')"
   ]
  },
  {
   "cell_type": "code",
   "execution_count": 24,
   "metadata": {},
   "outputs": [
    {
     "data": {
      "text/plain": [
       "{'0': {'precision': 0.8935008192244676,\n",
       "  'recall': 0.9018743109151047,\n",
       "  'f1-score': 0.8976680384087791,\n",
       "  'support': 1814},\n",
       " '1': {'precision': 0.8298415942769545,\n",
       "  'recall': 0.888402625820569,\n",
       "  'f1-score': 0.8581241743725231,\n",
       "  'support': 1828},\n",
       " '2': {'precision': 0.9161676646706587,\n",
       "  'recall': 0.848585690515807,\n",
       "  'f1-score': 0.8810826374892023,\n",
       "  'support': 1803},\n",
       " '3': {'precision': 0.8255072463768116,\n",
       "  'recall': 0.8283885980221058,\n",
       "  'f1-score': 0.8269454123112661,\n",
       "  'support': 1719},\n",
       " '4': {'precision': 0.8829670329670329,\n",
       "  'recall': 0.8868653421633554,\n",
       "  'f1-score': 0.8849118942731278,\n",
       "  'support': 1812},\n",
       " '5': {'precision': 0.841545352743561,\n",
       "  'recall': 0.8501131221719457,\n",
       "  'f1-score': 0.8458075407990996,\n",
       "  'support': 1768},\n",
       " '6': {'precision': 0.8667035398230089,\n",
       "  'recall': 0.855349344978166,\n",
       "  'f1-score': 0.860989010989011,\n",
       "  'support': 1832},\n",
       " '7': {'precision': 0.9028960817717206,\n",
       "  'recall': 0.879424778761062,\n",
       "  'f1-score': 0.8910058840011208,\n",
       "  'support': 1808},\n",
       " '8': {'precision': 0.864516129032258,\n",
       "  'recall': 0.8134657836644592,\n",
       "  'f1-score': 0.8382143872618709,\n",
       "  'support': 1812},\n",
       " '9': {'precision': 0.8069179143004647,\n",
       "  'recall': 0.8664079822616408,\n",
       "  'f1-score': 0.8356054530874097,\n",
       "  'support': 1804},\n",
       " 'micro avg': {'precision': 0.8621111111111112,\n",
       "  'recall': 0.8621111111111112,\n",
       "  'f1-score': 0.8621111111111112,\n",
       "  'support': 18000},\n",
       " 'macro avg': {'precision': 0.8630563375186938,\n",
       "  'recall': 0.8618877579274216,\n",
       "  'f1-score': 0.8620354432993411,\n",
       "  'support': 18000},\n",
       " 'weighted avg': {'precision': 0.8632703759847103,\n",
       "  'recall': 0.8621111111111112,\n",
       "  'f1-score': 0.862251514979578,\n",
       "  'support': 18000}}"
      ]
     },
     "execution_count": 24,
     "metadata": {},
     "output_type": "execute_result"
    }
   ],
   "source": [
    "classification_report(np.array(y_test), predY_cls, output_dict=True )"
   ]
  },
  {
   "cell_type": "code",
   "execution_count": null,
   "metadata": {},
   "outputs": [],
   "source": []
  },
  {
   "cell_type": "code",
   "execution_count": null,
   "metadata": {},
   "outputs": [],
   "source": []
  }
 ],
 "metadata": {
  "kernelspec": {
   "display_name": "Python 3",
   "language": "python",
   "name": "python3"
  },
  "language_info": {
   "codemirror_mode": {
    "name": "ipython",
    "version": 3
   },
   "file_extension": ".py",
   "mimetype": "text/x-python",
   "name": "python",
   "nbconvert_exporter": "python",
   "pygments_lexer": "ipython3",
   "version": "3.7.3"
  }
 },
 "nbformat": 4,
 "nbformat_minor": 2
}
