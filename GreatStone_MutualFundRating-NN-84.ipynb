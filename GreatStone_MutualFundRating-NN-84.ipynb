{
 "cells": [
  {
   "cell_type": "code",
   "execution_count": null,
   "metadata": {},
   "outputs": [],
   "source": []
  },
  {
   "cell_type": "code",
   "execution_count": 1,
   "metadata": {},
   "outputs": [],
   "source": [
    "import numpy as np\n",
    "import pandas as pd\n",
    "import tensorflow as tf"
   ]
  },
  {
   "cell_type": "code",
   "execution_count": 2,
   "metadata": {},
   "outputs": [
    {
     "name": "stdout",
     "output_type": "stream",
     "text": [
      "(25000, 8)\n"
     ]
    }
   ],
   "source": [
    "fund_ratios = pd.read_csv(\"fund_ratios.csv\")\n",
    "print(fund_ratios.shape)\n",
    "#fund_ratios.head(10)\n",
    "#fund_ratios.dtypes"
   ]
  },
  {
   "cell_type": "code",
   "execution_count": 3,
   "metadata": {},
   "outputs": [
    {
     "name": "stdout",
     "output_type": "stream",
     "text": [
      "(25000, 9)\n"
     ]
    }
   ],
   "source": [
    "fund_specs = pd.read_csv(\"fund_specs.csv\")\n",
    "print(fund_specs.shape)\n",
    "#fund_specs.head(10)"
   ]
  },
  {
   "cell_type": "code",
   "execution_count": 4,
   "metadata": {},
   "outputs": [
    {
     "name": "stdout",
     "output_type": "stream",
     "text": [
      "(25000, 16)\n",
      "Index(['fund_id', 'tag', 'fund_ratio_net_annual_expense', 'pb_ratio',\n",
      "       'ps_ratio', 'mmc', 'pc_ratio', 'pe_ratio', 'investment_class',\n",
      "       'currency', 'total_assets', 'yield', 'greatstone_rating',\n",
      "       'inception_date', 'fund_size', 'return_ytd'],\n",
      "      dtype='object')\n"
     ]
    }
   ],
   "source": [
    "fund_ratios_merge_fund_specs = pd.merge(fund_ratios, fund_specs, how = 'inner', on='tag')\n",
    "print(fund_ratios_merge_fund_specs.shape)\n",
    "print(fund_ratios_merge_fund_specs.columns)\n",
    "#fund_ratios_merge_fund_specs.head()"
   ]
  },
  {
   "cell_type": "code",
   "execution_count": 5,
   "metadata": {},
   "outputs": [
    {
     "name": "stdout",
     "output_type": "stream",
     "text": [
      "(25000, 43)\n"
     ]
    }
   ],
   "source": [
    "other_specs = pd.read_csv(\"other_specs.csv\")\n",
    "print(other_specs.shape)\n",
    "#other_specs.head()"
   ]
  },
  {
   "cell_type": "code",
   "execution_count": 6,
   "metadata": {},
   "outputs": [
    {
     "name": "stdout",
     "output_type": "stream",
     "text": [
      "(25000, 58)\n"
     ]
    }
   ],
   "source": [
    "fund_ratios_fund_specs_other_specs_merge = pd.merge(fund_ratios_merge_fund_specs, other_specs, how='inner', on='tag', suffixes=('', '_y'))\n",
    "print(fund_ratios_fund_specs_other_specs_merge.shape)\n",
    "#print(fund_ratios_fund_specs_other_specs_merge.columns)"
   ]
  },
  {
   "cell_type": "code",
   "execution_count": 7,
   "metadata": {},
   "outputs": [
    {
     "name": "stdout",
     "output_type": "stream",
     "text": [
      "(25000, 52)\n"
     ]
    }
   ],
   "source": [
    "fund_ratios_fund_specs_other_specs_merge = fund_ratios_fund_specs_other_specs_merge[fund_ratios_fund_specs_other_specs_merge.columns[~fund_ratios_fund_specs_other_specs_merge.columns.str.endswith('_y')]]\n",
    "print(fund_ratios_fund_specs_other_specs_merge.shape)\n",
    "#fund_ratios_fund_specs_other_specs_merge.columns"
   ]
  },
  {
   "cell_type": "code",
   "execution_count": 8,
   "metadata": {},
   "outputs": [],
   "source": [
    "#(fund_ratios_fund_specs_other_specs_merge.isna() == True).sum()"
   ]
  },
  {
   "cell_type": "code",
   "execution_count": 9,
   "metadata": {},
   "outputs": [
    {
     "name": "stdout",
     "output_type": "stream",
     "text": [
      "(5000, 2)\n"
     ]
    }
   ],
   "source": [
    "sample_submission = pd.read_csv(\"sample_submission.csv\")\n",
    "print(sample_submission.shape)\n",
    "#sample_submission.head(10)"
   ]
  },
  {
   "cell_type": "code",
   "execution_count": 10,
   "metadata": {},
   "outputs": [],
   "source": [
    "fund_allocations = pd.read_csv(\"fund_allocations.csv\")\n",
    "#fund_allocations.head()\n",
    "#fund_allocations.shape\n",
    "#fund_allocations.dtypes"
   ]
  },
  {
   "cell_type": "code",
   "execution_count": 11,
   "metadata": {},
   "outputs": [],
   "source": [
    "#(fund_allocations.isna() == True).sum()"
   ]
  },
  {
   "cell_type": "code",
   "execution_count": 12,
   "metadata": {},
   "outputs": [
    {
     "name": "stdout",
     "output_type": "stream",
     "text": [
      "(25000, 52)\n"
     ]
    }
   ],
   "source": [
    "merge_1 = fund_ratios_fund_specs_other_specs_merge\n",
    "print(merge_1.shape)"
   ]
  },
  {
   "cell_type": "code",
   "execution_count": 13,
   "metadata": {},
   "outputs": [
    {
     "name": "stdout",
     "output_type": "stream",
     "text": [
      "(25000, 64)\n"
     ]
    }
   ],
   "source": [
    "merge_2  = pd.merge(merge_1, fund_allocations, how = 'inner', left_on='tag', right_on='id')\n",
    "print(merge_2.shape)"
   ]
  },
  {
   "cell_type": "code",
   "execution_count": 14,
   "metadata": {},
   "outputs": [
    {
     "name": "stdout",
     "output_type": "stream",
     "text": [
      "(25000, 17)\n"
     ]
    }
   ],
   "source": [
    "return_3year = pd.read_csv(\"return_3year.csv\")\n",
    "print(return_3year.shape)"
   ]
  },
  {
   "cell_type": "code",
   "execution_count": 15,
   "metadata": {},
   "outputs": [
    {
     "name": "stdout",
     "output_type": "stream",
     "text": [
      "(25000, 80)\n"
     ]
    }
   ],
   "source": [
    "merge_3  = pd.merge(merge_2, return_3year, how = 'inner', on='tag')\n",
    "print(merge_3.shape)"
   ]
  },
  {
   "cell_type": "code",
   "execution_count": 16,
   "metadata": {},
   "outputs": [
    {
     "name": "stdout",
     "output_type": "stream",
     "text": [
      "(25000, 17)\n"
     ]
    }
   ],
   "source": [
    "return_5year = pd.read_csv(\"return_5year.csv\")\n",
    "print(return_5year.shape)"
   ]
  },
  {
   "cell_type": "code",
   "execution_count": 17,
   "metadata": {},
   "outputs": [
    {
     "data": {
      "text/plain": [
       "(25000, 96)"
      ]
     },
     "execution_count": 17,
     "metadata": {},
     "output_type": "execute_result"
    }
   ],
   "source": [
    "merge_4 = pd.merge(merge_3, return_5year, how='inner', on='tag')\n",
    "merge_4.shape"
   ]
  },
  {
   "cell_type": "code",
   "execution_count": 18,
   "metadata": {},
   "outputs": [
    {
     "data": {
      "text/plain": [
       "(25000, 17)"
      ]
     },
     "execution_count": 18,
     "metadata": {},
     "output_type": "execute_result"
    }
   ],
   "source": [
    "return_10year = pd.read_csv('return_10year.csv')\n",
    "return_10year.shape"
   ]
  },
  {
   "cell_type": "code",
   "execution_count": 19,
   "metadata": {},
   "outputs": [
    {
     "data": {
      "text/plain": [
       "(25000, 112)"
      ]
     },
     "execution_count": 19,
     "metadata": {},
     "output_type": "execute_result"
    }
   ],
   "source": [
    "merge_5 = pd.merge(merge_4, return_10year, how='inner', on='fund_id')\n",
    "merge_5.shape"
   ]
  },
  {
   "cell_type": "code",
   "execution_count": 20,
   "metadata": {},
   "outputs": [],
   "source": [
    "bond_ratings = pd.read_csv('bond_ratings.csv')"
   ]
  },
  {
   "cell_type": "code",
   "execution_count": 21,
   "metadata": {},
   "outputs": [
    {
     "data": {
      "text/plain": [
       "(25000, 12)"
      ]
     },
     "execution_count": 21,
     "metadata": {},
     "output_type": "execute_result"
    }
   ],
   "source": [
    "bond_ratings.shape"
   ]
  },
  {
   "cell_type": "code",
   "execution_count": 22,
   "metadata": {},
   "outputs": [],
   "source": [
    "#bond_ratings.dtypes"
   ]
  },
  {
   "cell_type": "code",
   "execution_count": 23,
   "metadata": {},
   "outputs": [],
   "source": [
    "merge_6 = pd.merge(merge_5, bond_ratings, how='inner', on='tag')"
   ]
  },
  {
   "cell_type": "code",
   "execution_count": 24,
   "metadata": {},
   "outputs": [
    {
     "data": {
      "text/plain": [
       "(25000, 123)"
      ]
     },
     "execution_count": 24,
     "metadata": {},
     "output_type": "execute_result"
    }
   ],
   "source": [
    "merge_6.shape"
   ]
  },
  {
   "cell_type": "markdown",
   "metadata": {},
   "source": [
    "### Creation of Fund ids  NOT in sample submission list"
   ]
  },
  {
   "cell_type": "code",
   "execution_count": null,
   "metadata": {},
   "outputs": [],
   "source": []
  },
  {
   "cell_type": "code",
   "execution_count": 25,
   "metadata": {},
   "outputs": [],
   "source": [
    "# All the fund_ids that are not in the sample_submission file\n",
    "\n",
    "#fundids_NOT_in_sample_submission = fund_ratios_fund_specs_other_specs_merge.loc[~fund_ratios_fund_specs_other_specs_merge['fund_id'].isin(sample_submission['fund_id'])]\n",
    "\n",
    "#fundids_NOT_in_sample_submission = merge_2.loc[~merge_2['fund_id'].isin(sample_submission['fund_id'])]\n",
    "\n",
    "#fundids_NOT_in_sample_submission = merge_3.loc[~merge_3['fund_id'].isin(sample_submission['fund_id'])]\n",
    "\n",
    "#fundids_NOT_in_sample_submission = merge_4.loc[~merge_4['fund_id'].isin(sample_submission['fund_id'])]\n",
    "\n",
    "#fundids_NOT_in_sample_submission = merge_5.loc[~merge_5['fund_id'].isin(sample_submission['fund_id'])]\n",
    "\n",
    "fundids_NOT_in_sample_submission = merge_6.loc[~merge_6['fund_id'].isin(sample_submission['fund_id'])]\n",
    "\n",
    "fundids_IN_sample_submission = merge_6.loc[merge_6['fund_id'].isin(sample_submission['fund_id'])]"
   ]
  },
  {
   "cell_type": "code",
   "execution_count": 26,
   "metadata": {},
   "outputs": [],
   "source": [
    "#fundids_IN_sample_submission.head()"
   ]
  },
  {
   "cell_type": "code",
   "execution_count": 27,
   "metadata": {},
   "outputs": [
    {
     "data": {
      "text/plain": [
       "(20000, 123)"
      ]
     },
     "execution_count": 27,
     "metadata": {},
     "output_type": "execute_result"
    }
   ],
   "source": [
    "fundids_NOT_in_sample_submission.shape"
   ]
  },
  {
   "cell_type": "code",
   "execution_count": 28,
   "metadata": {},
   "outputs": [
    {
     "data": {
      "text/plain": [
       "(5000, 123)"
      ]
     },
     "execution_count": 28,
     "metadata": {},
     "output_type": "execute_result"
    }
   ],
   "source": [
    "fundids_IN_sample_submission.shape"
   ]
  },
  {
   "cell_type": "code",
   "execution_count": 29,
   "metadata": {},
   "outputs": [],
   "source": [
    "#fundids_IN_sample_submission.head()\n",
    "#fundids_IN_sample_submission.dtypes"
   ]
  },
  {
   "cell_type": "code",
   "execution_count": 30,
   "metadata": {},
   "outputs": [],
   "source": [
    "#fundids_NOT_in_sample_submission.head()"
   ]
  },
  {
   "cell_type": "code",
   "execution_count": 31,
   "metadata": {},
   "outputs": [
    {
     "data": {
      "text/plain": [
       "fund_id                                    0\n",
       "tag                                        0\n",
       "fund_ratio_net_annual_expense              0\n",
       "pb_ratio                                  19\n",
       "ps_ratio                                  19\n",
       "mmc                                       19\n",
       "pc_ratio                                  19\n",
       "pe_ratio                                  19\n",
       "investment_class                         275\n",
       "currency                                   0\n",
       "total_assets                              24\n",
       "yield                                     26\n",
       "greatstone_rating                       5000\n",
       "inception_date                             0\n",
       "fund_size                                275\n",
       "return_ytd                                22\n",
       "2014_category_return                    1198\n",
       "2012_return_category                    1812\n",
       "years_up                                 372\n",
       "2018_return_category                     168\n",
       "category_return_1year                     22\n",
       "cash_percent_of_portfolio                 19\n",
       "2011_return_category                    2092\n",
       "ytd_return_fund                           22\n",
       "years_down                               329\n",
       "2014_return_fund                        1423\n",
       "category_return_1month                    22\n",
       "2013_return_fund                        1688\n",
       "fund_return_3months                       22\n",
       "ytd_return_category                       22\n",
       "                                        ... \n",
       "5_years_beta_category                     24\n",
       "5years_category_std                       24\n",
       "5_years_return_category                   22\n",
       "10years_category_r_squared                24\n",
       "10yrs_sharpe_ratio_fund                 1701\n",
       "10_years_alpha_fund                     1701\n",
       "10years_fund_r_squared                  1701\n",
       "10years_fund_std                        1701\n",
       "10yrs_sharpe_ratio_category               24\n",
       "10_years_beta_fund                      1701\n",
       "10yrs_treynor_ratio_fund                1701\n",
       "10_years_return_mean_annual_category      24\n",
       "10yrs_treynor_ratio_category              24\n",
       "10_years_return_fund                      22\n",
       "10_years_alpha_category                   24\n",
       "10_years_beta_category                    24\n",
       "10years_category_std                      24\n",
       "10_years_return_mean_annual_fund        1701\n",
       "10_years_return_category                  22\n",
       "bb_rating                                 19\n",
       "us_govt_bond_rating                       19\n",
       "below_b_rating                            19\n",
       "others_rating                             19\n",
       "maturity_bond                           3368\n",
       "b_rating                                  19\n",
       "a_rating                                  19\n",
       "aaa_rating                                19\n",
       "aa_rating                                 19\n",
       "bbb_rating                                19\n",
       "duration_bond                           3013\n",
       "Length: 123, dtype: int64"
      ]
     },
     "execution_count": 31,
     "metadata": {},
     "output_type": "execute_result"
    }
   ],
   "source": [
    "#(fundids_NOT_in_sample_submission.isna() == True ).sum()\n",
    "(fundids_IN_sample_submission.isna() == True ).sum()"
   ]
  },
  {
   "cell_type": "code",
   "execution_count": 32,
   "metadata": {},
   "outputs": [
    {
     "name": "stderr",
     "output_type": "stream",
     "text": [
      "C:\\Users\\shard\\Anaconda3\\lib\\site-packages\\pandas\\core\\frame.py:3940: SettingWithCopyWarning: \n",
      "A value is trying to be set on a copy of a slice from a DataFrame\n",
      "\n",
      "See the caveats in the documentation: http://pandas.pydata.org/pandas-docs/stable/indexing.html#indexing-view-versus-copy\n",
      "  errors=errors)\n"
     ]
    }
   ],
   "source": [
    "fundids_NOT_in_sample_submission.drop(columns='currency', inplace=True, )\n",
    "fundids_NOT_in_sample_submission.drop(columns='fund_id', inplace = True)"
   ]
  },
  {
   "cell_type": "code",
   "execution_count": 33,
   "metadata": {},
   "outputs": [],
   "source": [
    "fundids_IN_sample_submission.drop(columns='currency', inplace=True, )\n",
    "#fundids_IN_sample_submission.drop(columns='fund_id', inplace = True)"
   ]
  },
  {
   "cell_type": "code",
   "execution_count": 34,
   "metadata": {},
   "outputs": [],
   "source": [
    "fundids_NOT_in_sample_submission = pd.get_dummies(fundids_NOT_in_sample_submission, columns=['investment_class', 'fund_size'])"
   ]
  },
  {
   "cell_type": "code",
   "execution_count": 35,
   "metadata": {},
   "outputs": [],
   "source": [
    "fundids_IN_sample_submission = pd.get_dummies(fundids_IN_sample_submission, columns=['investment_class', 'fund_size'])"
   ]
  },
  {
   "cell_type": "code",
   "execution_count": 36,
   "metadata": {},
   "outputs": [
    {
     "data": {
      "text/plain": [
       "Index(['tag', 'fund_ratio_net_annual_expense', 'pb_ratio', 'ps_ratio', 'mmc',\n",
       "       'pc_ratio', 'pe_ratio', 'total_assets', 'yield', 'greatstone_rating',\n",
       "       ...\n",
       "       'aaa_rating', 'aa_rating', 'bbb_rating', 'duration_bond',\n",
       "       'investment_class_Blend', 'investment_class_Growth',\n",
       "       'investment_class_Value', 'fund_size_Large', 'fund_size_Medium',\n",
       "       'fund_size_Small'],\n",
       "      dtype='object', length=125)"
      ]
     },
     "execution_count": 36,
     "metadata": {},
     "output_type": "execute_result"
    }
   ],
   "source": [
    "fundids_NOT_in_sample_submission.columns"
   ]
  },
  {
   "cell_type": "code",
   "execution_count": 37,
   "metadata": {},
   "outputs": [],
   "source": [
    "#fundids_NOT_in_sample_submission.head(20)"
   ]
  },
  {
   "cell_type": "code",
   "execution_count": 38,
   "metadata": {},
   "outputs": [],
   "source": [
    "fundids_NOT_in_sample_submission['return_ytd'] = pd.to_numeric(fundids_NOT_in_sample_submission['return_ytd'])"
   ]
  },
  {
   "cell_type": "code",
   "execution_count": 39,
   "metadata": {},
   "outputs": [],
   "source": [
    "fundids_IN_sample_submission['return_ytd'] = pd.to_numeric(fundids_IN_sample_submission['return_ytd'])"
   ]
  },
  {
   "cell_type": "code",
   "execution_count": 40,
   "metadata": {},
   "outputs": [],
   "source": [
    "fundids_NOT_in_sample_submission['ps_ratio'] = fundids_NOT_in_sample_submission['ps_ratio'].str.replace(',', '')\n",
    "fundids_NOT_in_sample_submission['pc_ratio'] = fundids_NOT_in_sample_submission['pc_ratio'].str.replace(',', '')\n",
    "fundids_NOT_in_sample_submission['pe_ratio'] = fundids_NOT_in_sample_submission['pe_ratio'].str.replace(',', '')\n",
    "fundids_NOT_in_sample_submission['mmc'] = fundids_NOT_in_sample_submission['mmc'].str.replace(',', '')\n",
    "fundids_NOT_in_sample_submission['3yrs_treynor_ratio_fund'] = fundids_NOT_in_sample_submission['3yrs_treynor_ratio_fund'].str.replace(',', '')\n",
    "fundids_NOT_in_sample_submission['5yrs_treynor_ratio_fund'] = fundids_NOT_in_sample_submission['5yrs_treynor_ratio_fund'].str.replace(',', '')\n",
    "fundids_NOT_in_sample_submission['10yrs_treynor_ratio_fund'] = fundids_NOT_in_sample_submission['10yrs_treynor_ratio_fund'].str.replace(',', '')\n",
    "\n",
    "# 3yrs_treynor_ratio_fund\n",
    "#5yrs_treynor_ratio_fund\n",
    "#10yrs_treynor_ratio_fund\n"
   ]
  },
  {
   "cell_type": "code",
   "execution_count": 41,
   "metadata": {},
   "outputs": [],
   "source": [
    "fundids_IN_sample_submission['ps_ratio'] = fundids_IN_sample_submission['ps_ratio'].str.replace(',', '')\n",
    "fundids_IN_sample_submission['pc_ratio'] = fundids_IN_sample_submission['pc_ratio'].str.replace(',', '')\n",
    "fundids_IN_sample_submission['pe_ratio'] = fundids_IN_sample_submission['pe_ratio'].str.replace(',', '')\n",
    "fundids_IN_sample_submission['mmc'] = fundids_IN_sample_submission['mmc'].str.replace(',', '')\n",
    "fundids_IN_sample_submission['3yrs_treynor_ratio_fund'] = fundids_IN_sample_submission['3yrs_treynor_ratio_fund'].str.replace(',', '')\n",
    "fundids_IN_sample_submission['5yrs_treynor_ratio_fund'] = fundids_IN_sample_submission['5yrs_treynor_ratio_fund'].str.replace(',', '')\n",
    "fundids_IN_sample_submission['10yrs_treynor_ratio_fund'] = fundids_IN_sample_submission['10yrs_treynor_ratio_fund'].str.replace(',', '')\n"
   ]
  },
  {
   "cell_type": "code",
   "execution_count": 42,
   "metadata": {},
   "outputs": [],
   "source": [
    "fundids_NOT_in_sample_submission['ps_ratio'] = pd.to_numeric(fundids_NOT_in_sample_submission['ps_ratio'], errors='coerce')\n",
    "fundids_NOT_in_sample_submission['pc_ratio'] = pd.to_numeric(fundids_NOT_in_sample_submission['pc_ratio'], errors='coerce')\n",
    "fundids_NOT_in_sample_submission['pe_ratio'] = pd.to_numeric(fundids_NOT_in_sample_submission['pe_ratio'], errors='coerce')\n",
    "fundids_NOT_in_sample_submission['mmc'] = pd.to_numeric(fundids_NOT_in_sample_submission['mmc'], errors='coerce')\n",
    "fundids_NOT_in_sample_submission['3yrs_treynor_ratio_fund'] = pd.to_numeric(fundids_NOT_in_sample_submission['3yrs_treynor_ratio_fund'], errors='coerce')\n",
    "fundids_NOT_in_sample_submission['5yrs_treynor_ratio_fund'] = pd.to_numeric(fundids_NOT_in_sample_submission['5yrs_treynor_ratio_fund'], errors='coerce')\n",
    "fundids_NOT_in_sample_submission['10yrs_treynor_ratio_fund'] = pd.to_numeric(fundids_NOT_in_sample_submission['10yrs_treynor_ratio_fund'], errors='coerce')"
   ]
  },
  {
   "cell_type": "code",
   "execution_count": 43,
   "metadata": {},
   "outputs": [],
   "source": [
    "fundids_IN_sample_submission['ps_ratio'] = pd.to_numeric(fundids_IN_sample_submission['ps_ratio'], errors='coerce')\n",
    "fundids_IN_sample_submission['pc_ratio'] = pd.to_numeric(fundids_IN_sample_submission['pc_ratio'], errors='coerce')\n",
    "fundids_IN_sample_submission['pe_ratio'] = pd.to_numeric(fundids_IN_sample_submission['pe_ratio'], errors='coerce')\n",
    "fundids_IN_sample_submission['mmc'] = pd.to_numeric(fundids_IN_sample_submission['mmc'], errors='coerce')\n",
    "fundids_IN_sample_submission['3yrs_treynor_ratio_fund'] = pd.to_numeric(fundids_IN_sample_submission['3yrs_treynor_ratio_fund'], errors='coerce')\n",
    "fundids_IN_sample_submission['5yrs_treynor_ratio_fund'] = pd.to_numeric(fundids_IN_sample_submission['5yrs_treynor_ratio_fund'], errors='coerce')\n",
    "fundids_IN_sample_submission['10yrs_treynor_ratio_fund'] = pd.to_numeric(fundids_IN_sample_submission['10yrs_treynor_ratio_fund'], errors='coerce')"
   ]
  },
  {
   "cell_type": "code",
   "execution_count": 44,
   "metadata": {},
   "outputs": [],
   "source": [
    "fundids_NOT_in_sample_submission['inception_date'] = pd.to_datetime(fundids_NOT_in_sample_submission['inception_date'])"
   ]
  },
  {
   "cell_type": "code",
   "execution_count": 45,
   "metadata": {},
   "outputs": [],
   "source": [
    "fundids_IN_sample_submission['inception_date'] = pd.to_datetime(fundids_IN_sample_submission['inception_date'])"
   ]
  },
  {
   "cell_type": "code",
   "execution_count": 46,
   "metadata": {},
   "outputs": [],
   "source": [
    "import datetime as dt\n",
    "\n",
    "fundids_NOT_in_sample_submission['inception_date']  = (fundids_NOT_in_sample_submission['inception_date'] - dt.datetime(1970,1,1)).dt.total_seconds()\n"
   ]
  },
  {
   "cell_type": "code",
   "execution_count": 47,
   "metadata": {},
   "outputs": [],
   "source": [
    "fundids_IN_sample_submission['inception_date']  = (fundids_IN_sample_submission['inception_date'] - dt.datetime(1970,1,1)).dt.total_seconds()"
   ]
  },
  {
   "cell_type": "code",
   "execution_count": 48,
   "metadata": {},
   "outputs": [],
   "source": [
    "fundids_NOT_in_sample_submission.drop(columns='tag', inplace=True)\n",
    "#fundids_IN_sample_submission.drop(columns='tag', inplace=True)\n"
   ]
  },
  {
   "cell_type": "code",
   "execution_count": 49,
   "metadata": {},
   "outputs": [],
   "source": [
    "#fundids_NOT_in_sample_submission.fillna(0, inplace=True)\n",
    "fundids_NOT_in_sample_submission.fillna(fundids_NOT_in_sample_submission.mean(), inplace=True)\n",
    "#fundids_NOT_in_sample_submission.dropna(0, inplace=True)"
   ]
  },
  {
   "cell_type": "code",
   "execution_count": 50,
   "metadata": {},
   "outputs": [],
   "source": [
    "fundids_IN_sample_submission.fillna(fundids_IN_sample_submission.mean(), inplace=True)"
   ]
  },
  {
   "cell_type": "code",
   "execution_count": 51,
   "metadata": {},
   "outputs": [
    {
     "data": {
      "text/plain": [
       "3.0    6786\n",
       "4.0    4614\n",
       "2.0    4230\n",
       "5.0    1629\n",
       "1.0    1376\n",
       "0.0    1365\n",
       "Name: greatstone_rating, dtype: int64"
      ]
     },
     "execution_count": 51,
     "metadata": {},
     "output_type": "execute_result"
    }
   ],
   "source": [
    "fundids_NOT_in_sample_submission['greatstone_rating'].value_counts()"
   ]
  },
  {
   "cell_type": "code",
   "execution_count": 52,
   "metadata": {},
   "outputs": [
    {
     "data": {
      "text/plain": [
       "Series([], Name: greatstone_rating, dtype: int64)"
      ]
     },
     "execution_count": 52,
     "metadata": {},
     "output_type": "execute_result"
    }
   ],
   "source": [
    "fundids_IN_sample_submission['greatstone_rating'].value_counts()"
   ]
  },
  {
   "cell_type": "code",
   "execution_count": 53,
   "metadata": {},
   "outputs": [],
   "source": [
    "#fundids_NOT_in_sample_submission.groupby('greatstone_rating')['greatstone_rating'].count()"
   ]
  },
  {
   "cell_type": "code",
   "execution_count": null,
   "metadata": {},
   "outputs": [],
   "source": []
  },
  {
   "cell_type": "code",
   "execution_count": 54,
   "metadata": {},
   "outputs": [],
   "source": [
    "#import seaborn as sns\n",
    "#sns.pairplot(fundids_NOT_in_sample_submission)"
   ]
  },
  {
   "cell_type": "code",
   "execution_count": null,
   "metadata": {},
   "outputs": [],
   "source": []
  },
  {
   "cell_type": "code",
   "execution_count": null,
   "metadata": {},
   "outputs": [],
   "source": []
  },
  {
   "cell_type": "markdown",
   "metadata": {},
   "source": [
    "### Marking .....................................Features & Label "
   ]
  },
  {
   "cell_type": "code",
   "execution_count": 55,
   "metadata": {},
   "outputs": [],
   "source": [
    "# we need to divide the data present in \"fundids_NOT_in_sample_submission\" into train and test\n",
    "\n",
    "data_y = fundids_NOT_in_sample_submission['greatstone_rating'].values\n"
   ]
  },
  {
   "cell_type": "code",
   "execution_count": 56,
   "metadata": {},
   "outputs": [
    {
     "data": {
      "text/plain": [
       "array([3., 4., 3., ..., 3., 1., 1.])"
      ]
     },
     "execution_count": 56,
     "metadata": {},
     "output_type": "execute_result"
    }
   ],
   "source": [
    "data_y"
   ]
  },
  {
   "cell_type": "code",
   "execution_count": 57,
   "metadata": {},
   "outputs": [],
   "source": [
    "fundids_NOT_in_sample_submission.drop(columns='greatstone_rating', inplace=True)"
   ]
  },
  {
   "cell_type": "code",
   "execution_count": 58,
   "metadata": {},
   "outputs": [],
   "source": [
    "data_X = fundids_NOT_in_sample_submission.values\n",
    "data_X = data_X.astype(float)"
   ]
  },
  {
   "cell_type": "code",
   "execution_count": null,
   "metadata": {},
   "outputs": [],
   "source": []
  },
  {
   "cell_type": "code",
   "execution_count": null,
   "metadata": {},
   "outputs": [],
   "source": []
  },
  {
   "cell_type": "code",
   "execution_count": null,
   "metadata": {},
   "outputs": [],
   "source": []
  },
  {
   "cell_type": "code",
   "execution_count": 59,
   "metadata": {},
   "outputs": [],
   "source": [
    "#sample_submission['fund_id']"
   ]
  },
  {
   "cell_type": "code",
   "execution_count": 60,
   "metadata": {},
   "outputs": [],
   "source": [
    "# ******* Before dropping, arrange the features seuquence as per the submission file\n",
    "\n",
    "#fundids_IN_sample_submission['fund_id']"
   ]
  },
  {
   "cell_type": "code",
   "execution_count": 61,
   "metadata": {},
   "outputs": [],
   "source": [
    "fundids_IN_sample_submission.reset_index(drop=True, inplace=True)"
   ]
  },
  {
   "cell_type": "code",
   "execution_count": 62,
   "metadata": {},
   "outputs": [],
   "source": [
    "fundids_IN_sample_submission.set_index('fund_id', inplace=True )"
   ]
  },
  {
   "cell_type": "code",
   "execution_count": 63,
   "metadata": {},
   "outputs": [],
   "source": [
    "fundids_IN_sample_submission = fundids_IN_sample_submission.reindex(index=sample_submission['fund_id'])"
   ]
  },
  {
   "cell_type": "code",
   "execution_count": 64,
   "metadata": {},
   "outputs": [],
   "source": [
    "fundids_IN_sample_submission.reset_index(inplace=True)"
   ]
  },
  {
   "cell_type": "code",
   "execution_count": 65,
   "metadata": {},
   "outputs": [],
   "source": [
    "fundids_IN_sample_submission.drop(columns=['greatstone_rating', 'tag', 'fund_id'], inplace=True)"
   ]
  },
  {
   "cell_type": "code",
   "execution_count": 66,
   "metadata": {},
   "outputs": [],
   "source": [
    "submission_data_x =  fundids_IN_sample_submission.values\n",
    "submission_data_x = submission_data_x.astype(float)"
   ]
  },
  {
   "cell_type": "code",
   "execution_count": 67,
   "metadata": {},
   "outputs": [],
   "source": [
    "from sklearn.model_selection import train_test_split"
   ]
  },
  {
   "cell_type": "code",
   "execution_count": null,
   "metadata": {},
   "outputs": [],
   "source": []
  },
  {
   "cell_type": "code",
   "execution_count": 68,
   "metadata": {},
   "outputs": [],
   "source": [
    "from sklearn.preprocessing import StandardScaler\n",
    "x_scaled = StandardScaler().fit_transform(data_X)"
   ]
  },
  {
   "cell_type": "code",
   "execution_count": 69,
   "metadata": {},
   "outputs": [],
   "source": [
    "x_submission_scaled = StandardScaler().fit_transform(submission_data_x) "
   ]
  },
  {
   "cell_type": "code",
   "execution_count": 70,
   "metadata": {},
   "outputs": [],
   "source": [
    "# comment this for ML models, uncomment for Deep learning models\n",
    "data_y = tf.keras.utils.to_categorical(data_y,num_classes=6)\n",
    "data_X = x_scaled.astype(float)"
   ]
  },
  {
   "cell_type": "code",
   "execution_count": null,
   "metadata": {},
   "outputs": [],
   "source": []
  },
  {
   "cell_type": "code",
   "execution_count": 71,
   "metadata": {},
   "outputs": [],
   "source": [
    "X_train, X_test, y_train, y_test = train_test_split(x_scaled, data_y, test_size=0.30, random_state=3)"
   ]
  },
  {
   "cell_type": "code",
   "execution_count": 72,
   "metadata": {},
   "outputs": [
    {
     "data": {
      "text/plain": [
       "(14000, 123)"
      ]
     },
     "execution_count": 72,
     "metadata": {},
     "output_type": "execute_result"
    }
   ],
   "source": [
    "X_train.shape"
   ]
  },
  {
   "cell_type": "code",
   "execution_count": 73,
   "metadata": {},
   "outputs": [
    {
     "data": {
      "text/plain": [
       "(6000, 123)"
      ]
     },
     "execution_count": 73,
     "metadata": {},
     "output_type": "execute_result"
    }
   ],
   "source": [
    "X_test.shape"
   ]
  },
  {
   "cell_type": "code",
   "execution_count": 74,
   "metadata": {},
   "outputs": [
    {
     "data": {
      "text/plain": [
       "(14000, 6)"
      ]
     },
     "execution_count": 74,
     "metadata": {},
     "output_type": "execute_result"
    }
   ],
   "source": [
    "y_train.shape"
   ]
  },
  {
   "cell_type": "code",
   "execution_count": 75,
   "metadata": {},
   "outputs": [
    {
     "data": {
      "text/plain": [
       "(6000, 6)"
      ]
     },
     "execution_count": 75,
     "metadata": {},
     "output_type": "execute_result"
    }
   ],
   "source": [
    "y_test.shape"
   ]
  },
  {
   "cell_type": "markdown",
   "metadata": {},
   "source": [
    "from imblearn.over_sampling import SMOTE\n",
    "\n",
    "smote = SMOTE('minority')\n",
    "X_sm, y_sm = smote.fit_sample(X_train, y_train)\n",
    "print(X_sm.shape, y_sm.shape)"
   ]
  },
  {
   "cell_type": "code",
   "execution_count": 76,
   "metadata": {},
   "outputs": [
    {
     "data": {
      "text/plain": [
       "(14000, 123)"
      ]
     },
     "execution_count": 76,
     "metadata": {},
     "output_type": "execute_result"
    }
   ],
   "source": [
    "X_train.shape"
   ]
  },
  {
   "cell_type": "code",
   "execution_count": 77,
   "metadata": {},
   "outputs": [],
   "source": [
    "import tensorflow as tf\n",
    "\n"
   ]
  },
  {
   "cell_type": "code",
   "execution_count": null,
   "metadata": {},
   "outputs": [],
   "source": []
  },
  {
   "cell_type": "code",
   "execution_count": null,
   "metadata": {},
   "outputs": [],
   "source": []
  },
  {
   "cell_type": "markdown",
   "metadata": {},
   "source": [
    "#Importing MLPClassifier\n",
    "from sklearn.neural_network import MLPClassifier\n",
    "#solver='lbfgs', alpha=1e-5,\n",
    "#solver='sgd'\n",
    "#learning_rate_init=0.001\n",
    "#activation='logistic\n",
    "#verbose=True\n",
    "#learning_rate_init=1\n",
    "\n",
    "\n",
    "#Initializing the MLPClassifier\n",
    "classifier = MLPClassifier(hidden_layer_sizes=(500, 500, 300, 200, 100), max_iter=300,activation = 'relu',solver='adam', alpha=1e-5,random_state=1)"
   ]
  },
  {
   "cell_type": "markdown",
   "metadata": {},
   "source": [
    "#Fitting the training data to the network\n",
    "#classifier.fit(X_train, y_train)\n",
    "classifier.fit(X_sm, y_sm)"
   ]
  },
  {
   "cell_type": "markdown",
   "metadata": {},
   "source": [
    "#Predicting y for X_val\n",
    "y_pred = classifier.predict(X_test)"
   ]
  },
  {
   "cell_type": "markdown",
   "metadata": {},
   "source": [
    "print(\"ANN score: \", accuracy_score(y_test, y_pred))"
   ]
  },
  {
   "cell_type": "markdown",
   "metadata": {},
   "source": [
    "submission_pred_MLP = classifier.predict(x_submission_scaled)\n",
    "MLP_submission_pred_df = pd.DataFrame(data=submission_pred_MLP, columns=['greatstone_rating'])\n",
    "final_submission_MLP = pd.concat([sample_submission['fund_id'], MLP_submission_pred_df], axis=1)\n",
    "final_submission_MLP.to_csv('MLP_out.csv', index=False)"
   ]
  },
  {
   "cell_type": "code",
   "execution_count": null,
   "metadata": {},
   "outputs": [],
   "source": []
  },
  {
   "cell_type": "code",
   "execution_count": null,
   "metadata": {},
   "outputs": [],
   "source": []
  },
  {
   "cell_type": "code",
   "execution_count": null,
   "metadata": {},
   "outputs": [],
   "source": []
  },
  {
   "cell_type": "code",
   "execution_count": 78,
   "metadata": {},
   "outputs": [],
   "source": [
    "#from sklearn.utils import class_weight\n",
    "#class_weight = class_weight.compute_class_weight('balanced', np.unique(y_train), y_train)"
   ]
  },
  {
   "cell_type": "code",
   "execution_count": 79,
   "metadata": {},
   "outputs": [],
   "source": [
    "#trainY = tf.keras.utils.to_categorical(y_train,num_classes=6)\n",
    "#testY = tf.keras.utils.to_categorical(y_test,num_classes=6)"
   ]
  },
  {
   "cell_type": "code",
   "execution_count": 80,
   "metadata": {},
   "outputs": [],
   "source": [
    "#trainY[0]"
   ]
  },
  {
   "cell_type": "code",
   "execution_count": 81,
   "metadata": {},
   "outputs": [],
   "source": [
    "#X_train = X_train.astype(float)"
   ]
  },
  {
   "cell_type": "code",
   "execution_count": 82,
   "metadata": {},
   "outputs": [],
   "source": [
    "#from imblearn.over_sampling import SMOTE\n",
    "\n",
    "#smote = SMOTE('minority')\n",
    "#X_sm, y_sm = smote.fit_sample(X_train, trainY)\n",
    "#print(X_sm.shape, y_sm.shape)"
   ]
  },
  {
   "cell_type": "code",
   "execution_count": null,
   "metadata": {},
   "outputs": [],
   "source": []
  },
  {
   "cell_type": "code",
   "execution_count": null,
   "metadata": {},
   "outputs": [],
   "source": []
  },
  {
   "cell_type": "code",
   "execution_count": null,
   "metadata": {},
   "outputs": [],
   "source": [
    "\n"
   ]
  },
  {
   "cell_type": "markdown",
   "metadata": {},
   "source": [
    "from sklearn.decomposition import PCA\n",
    "\n",
    "pca = PCA(0.95)\n",
    "\n",
    "X_train_pca = pca.fit_transform(X_train)\n",
    "X_test_pca = pca.transform(X_test)\n",
    "#y_train_pca = pca.transform(y_train)"
   ]
  },
  {
   "cell_type": "markdown",
   "metadata": {},
   "source": [
    "\n",
    "explained_variance = pca.explained_variance_ratio_ "
   ]
  },
  {
   "cell_type": "markdown",
   "metadata": {},
   "source": [
    "explained_variance"
   ]
  },
  {
   "cell_type": "code",
   "execution_count": null,
   "metadata": {},
   "outputs": [],
   "source": []
  },
  {
   "cell_type": "code",
   "execution_count": 83,
   "metadata": {},
   "outputs": [],
   "source": [
    "from tensorflow.keras.models import Sequential\n",
    "import tensorflow as tf"
   ]
  },
  {
   "cell_type": "code",
   "execution_count": 84,
   "metadata": {},
   "outputs": [],
   "source": [
    "model = Sequential()"
   ]
  },
  {
   "cell_type": "markdown",
   "metadata": {},
   "source": [
    "model.add(tf.keras.layers.BatchNormalization())\n",
    "model.add(tf.keras.layers.Dense(200, activation='relu'))\n",
    "model.add(tf.keras.layers.Dropout(0.2))\n",
    "\n",
    "model.add(tf.keras.layers.BatchNormalization())\n",
    "model.add(tf.keras.layers.Dense(100, activation='tanh'))\n",
    "model.add(tf.keras.layers.Dropout(0.4))\n",
    "\n",
    "model.add(tf.keras.layers.BatchNormalization())\n",
    "model.add(tf.keras.layers.Dense(50, activation='relu'))\n",
    "model.add(tf.keras.layers.Dropout(0.2))"
   ]
  },
  {
   "cell_type": "code",
   "execution_count": 85,
   "metadata": {},
   "outputs": [],
   "source": [
    "#, kernel_initializer='he_uniform'\n",
    "model.add(tf.keras.layers.Dense(80, input_dim=X_train.shape[1], activation='relu'))\n",
    "model.add(tf.keras.layers.BatchNormalization())\n",
    "model.add(tf.keras.layers.Dropout(0.2))\n",
    "\n",
    "model.add(tf.keras.layers.BatchNormalization())\n",
    "model.add(tf.keras.layers.Dense(100, activation='relu'))\n",
    "model.add(tf.keras.layers.Dropout(0.2))\n",
    "\n",
    "model.add(tf.keras.layers.BatchNormalization())\n",
    "model.add(tf.keras.layers.Dense(200, activation='relu'))\n",
    "model.add(tf.keras.layers.Dropout(0.2))\n",
    "\n",
    "model.add(tf.keras.layers.BatchNormalization())\n",
    "model.add(tf.keras.layers.Dense(100, activation='tanh'))\n",
    "model.add(tf.keras.layers.Dropout(0.4))\n",
    "\n",
    "\n",
    "model.add(tf.keras.layers.BatchNormalization())\n",
    "model.add(tf.keras.layers.Dense(6, activation='softmax'))"
   ]
  },
  {
   "cell_type": "code",
   "execution_count": 86,
   "metadata": {},
   "outputs": [
    {
     "name": "stdout",
     "output_type": "stream",
     "text": [
      "Model: \"sequential\"\n",
      "_________________________________________________________________\n",
      "Layer (type)                 Output Shape              Param #   \n",
      "=================================================================\n",
      "dense (Dense)                (None, 80)                9920      \n",
      "_________________________________________________________________\n",
      "batch_normalization (BatchNo (None, 80)                320       \n",
      "_________________________________________________________________\n",
      "dropout (Dropout)            (None, 80)                0         \n",
      "_________________________________________________________________\n",
      "batch_normalization_1 (Batch (None, 80)                320       \n",
      "_________________________________________________________________\n",
      "dense_1 (Dense)              (None, 100)               8100      \n",
      "_________________________________________________________________\n",
      "dropout_1 (Dropout)          (None, 100)               0         \n",
      "_________________________________________________________________\n",
      "batch_normalization_2 (Batch (None, 100)               400       \n",
      "_________________________________________________________________\n",
      "dense_2 (Dense)              (None, 200)               20200     \n",
      "_________________________________________________________________\n",
      "dropout_2 (Dropout)          (None, 200)               0         \n",
      "_________________________________________________________________\n",
      "batch_normalization_3 (Batch (None, 200)               800       \n",
      "_________________________________________________________________\n",
      "dense_3 (Dense)              (None, 100)               20100     \n",
      "_________________________________________________________________\n",
      "dropout_3 (Dropout)          (None, 100)               0         \n",
      "_________________________________________________________________\n",
      "batch_normalization_4 (Batch (None, 100)               400       \n",
      "_________________________________________________________________\n",
      "dense_4 (Dense)              (None, 6)                 606       \n",
      "=================================================================\n",
      "Total params: 61,166\n",
      "Trainable params: 60,046\n",
      "Non-trainable params: 1,120\n",
      "_________________________________________________________________\n"
     ]
    }
   ],
   "source": [
    "model.summary()"
   ]
  },
  {
   "cell_type": "code",
   "execution_count": 87,
   "metadata": {},
   "outputs": [],
   "source": [
    "from tensorflow.keras.optimizers import SGD, Adam\n",
    "\n",
    "#, nesterov=True\n",
    "#decay=1e-6\n",
    "opt = SGD(lr=0.1, momentum=0.9, decay=1e-6, nesterov=True)\n",
    "\n",
    "#opt_adm = Adam()\n",
    "\n",
    "#['sgd', 'rmsprop', 'adagrad', 'adam']\n"
   ]
  },
  {
   "cell_type": "code",
   "execution_count": 88,
   "metadata": {},
   "outputs": [
    {
     "data": {
      "text/plain": [
       "{'name': 'SGD',\n",
       " 'learning_rate': 0.1,\n",
       " 'decay': 1e-06,\n",
       " 'momentum': 0.9,\n",
       " 'nesterov': True}"
      ]
     },
     "execution_count": 88,
     "metadata": {},
     "output_type": "execute_result"
    }
   ],
   "source": [
    "opt.get_config()"
   ]
  },
  {
   "cell_type": "code",
   "execution_count": 89,
   "metadata": {},
   "outputs": [],
   "source": [
    "# snippet of using the ReduceLROnPlateau callback\n",
    "from tensorflow.keras.callbacks import ReduceLROnPlateau\n",
    "\n",
    "rlrop = ReduceLROnPlateau(monitor='val_loss', factor=0.1, patience=100)\n"
   ]
  },
  {
   "cell_type": "code",
   "execution_count": 95,
   "metadata": {},
   "outputs": [],
   "source": [
    "# Compile model\n",
    "model.compile(loss='categorical_crossentropy', optimizer='adam', metrics=['accuracy'])"
   ]
  },
  {
   "cell_type": "code",
   "execution_count": 96,
   "metadata": {},
   "outputs": [
    {
     "data": {
      "text/plain": [
       "(20000, 123)"
      ]
     },
     "execution_count": 96,
     "metadata": {},
     "output_type": "execute_result"
    }
   ],
   "source": [
    "data_X.shape"
   ]
  },
  {
   "cell_type": "code",
   "execution_count": 97,
   "metadata": {},
   "outputs": [
    {
     "data": {
      "text/plain": [
       "(20000, 6)"
      ]
     },
     "execution_count": 97,
     "metadata": {},
     "output_type": "execute_result"
    }
   ],
   "source": [
    "data_y.shape"
   ]
  },
  {
   "cell_type": "code",
   "execution_count": 98,
   "metadata": {},
   "outputs": [
    {
     "name": "stdout",
     "output_type": "stream",
     "text": [
      "Train on 16000 samples, validate on 4000 samples\n",
      "Epoch 1/100\n",
      "16000/16000 - 5s - loss: 0.4990 - accuracy: 0.7956 - val_loss: 0.5097 - val_accuracy: 0.7900\n",
      "Epoch 2/100\n",
      "16000/16000 - 2s - loss: 0.4767 - accuracy: 0.8032 - val_loss: 0.5303 - val_accuracy: 0.7780\n",
      "Epoch 3/100\n",
      "16000/16000 - 3s - loss: 0.4834 - accuracy: 0.8005 - val_loss: 0.5004 - val_accuracy: 0.7965\n",
      "Epoch 4/100\n",
      "16000/16000 - 3s - loss: 0.4790 - accuracy: 0.8056 - val_loss: 0.5104 - val_accuracy: 0.7840\n",
      "Epoch 5/100\n",
      "16000/16000 - 3s - loss: 0.4713 - accuracy: 0.8052 - val_loss: 0.5175 - val_accuracy: 0.7840\n",
      "Epoch 6/100\n",
      "16000/16000 - 3s - loss: 0.4717 - accuracy: 0.8034 - val_loss: 0.5135 - val_accuracy: 0.7895\n",
      "Epoch 7/100\n",
      "16000/16000 - 3s - loss: 0.4723 - accuracy: 0.8073 - val_loss: 0.5077 - val_accuracy: 0.7885\n",
      "Epoch 8/100\n",
      "16000/16000 - 3s - loss: 0.4754 - accuracy: 0.8082 - val_loss: 0.5076 - val_accuracy: 0.7903\n",
      "Epoch 9/100\n",
      "16000/16000 - 3s - loss: 0.4673 - accuracy: 0.8101 - val_loss: 0.4951 - val_accuracy: 0.7955\n",
      "Epoch 10/100\n",
      "16000/16000 - 3s - loss: 0.4650 - accuracy: 0.8136 - val_loss: 0.5051 - val_accuracy: 0.7857\n",
      "Epoch 11/100\n",
      "16000/16000 - 3s - loss: 0.4668 - accuracy: 0.8098 - val_loss: 0.5036 - val_accuracy: 0.7900\n",
      "Epoch 12/100\n",
      "16000/16000 - 3s - loss: 0.4581 - accuracy: 0.8096 - val_loss: 0.5316 - val_accuracy: 0.7840\n",
      "Epoch 13/100\n",
      "16000/16000 - 2s - loss: 0.4658 - accuracy: 0.8094 - val_loss: 0.5204 - val_accuracy: 0.7790\n",
      "Epoch 14/100\n",
      "16000/16000 - 3s - loss: 0.4552 - accuracy: 0.8179 - val_loss: 0.5093 - val_accuracy: 0.7900\n",
      "Epoch 15/100\n",
      "16000/16000 - 3s - loss: 0.4710 - accuracy: 0.8092 - val_loss: 0.5029 - val_accuracy: 0.7893\n",
      "Epoch 16/100\n",
      "16000/16000 - 3s - loss: 0.4686 - accuracy: 0.8102 - val_loss: 0.5242 - val_accuracy: 0.7763\n",
      "Epoch 17/100\n",
      "16000/16000 - 2s - loss: 0.4629 - accuracy: 0.8107 - val_loss: 0.5453 - val_accuracy: 0.7655\n",
      "Epoch 18/100\n",
      "16000/16000 - 2s - loss: 0.4555 - accuracy: 0.8142 - val_loss: 0.5019 - val_accuracy: 0.7870\n",
      "Epoch 19/100\n",
      "16000/16000 - 2s - loss: 0.4522 - accuracy: 0.8167 - val_loss: 0.5121 - val_accuracy: 0.7905\n",
      "Epoch 20/100\n",
      "16000/16000 - 3s - loss: 0.4606 - accuracy: 0.8112 - val_loss: 0.5113 - val_accuracy: 0.7843\n",
      "Epoch 21/100\n",
      "16000/16000 - 2s - loss: 0.4559 - accuracy: 0.8110 - val_loss: 0.5100 - val_accuracy: 0.7845\n",
      "Epoch 22/100\n",
      "16000/16000 - 3s - loss: 0.4533 - accuracy: 0.8165 - val_loss: 0.5055 - val_accuracy: 0.7905\n",
      "Epoch 23/100\n",
      "16000/16000 - 3s - loss: 0.4452 - accuracy: 0.8171 - val_loss: 0.5046 - val_accuracy: 0.7910\n",
      "Epoch 24/100\n",
      "16000/16000 - 3s - loss: 0.4489 - accuracy: 0.8164 - val_loss: 0.5024 - val_accuracy: 0.7897\n",
      "Epoch 25/100\n",
      "16000/16000 - 3s - loss: 0.4490 - accuracy: 0.8184 - val_loss: 0.4978 - val_accuracy: 0.7962\n",
      "Epoch 26/100\n",
      "16000/16000 - 3s - loss: 0.4536 - accuracy: 0.8138 - val_loss: 0.5011 - val_accuracy: 0.7925\n",
      "Epoch 27/100\n",
      "16000/16000 - 3s - loss: 0.4497 - accuracy: 0.8142 - val_loss: 0.4948 - val_accuracy: 0.7943\n",
      "Epoch 28/100\n",
      "16000/16000 - 3s - loss: 0.4430 - accuracy: 0.8174 - val_loss: 0.5108 - val_accuracy: 0.7853\n",
      "Epoch 29/100\n",
      "16000/16000 - 3s - loss: 0.4476 - accuracy: 0.8171 - val_loss: 0.4831 - val_accuracy: 0.8002\n",
      "Epoch 30/100\n",
      "16000/16000 - 2s - loss: 0.4552 - accuracy: 0.8124 - val_loss: 0.5071 - val_accuracy: 0.7908\n",
      "Epoch 31/100\n",
      "16000/16000 - 3s - loss: 0.4491 - accuracy: 0.8159 - val_loss: 0.5060 - val_accuracy: 0.7887\n",
      "Epoch 32/100\n",
      "16000/16000 - 3s - loss: 0.4429 - accuracy: 0.8211 - val_loss: 0.5228 - val_accuracy: 0.7768\n",
      "Epoch 33/100\n",
      "16000/16000 - 3s - loss: 0.4467 - accuracy: 0.8194 - val_loss: 0.5157 - val_accuracy: 0.7800\n",
      "Epoch 34/100\n",
      "16000/16000 - 3s - loss: 0.4482 - accuracy: 0.8165 - val_loss: 0.5051 - val_accuracy: 0.7968\n",
      "Epoch 35/100\n",
      "16000/16000 - 3s - loss: 0.4418 - accuracy: 0.8198 - val_loss: 0.4818 - val_accuracy: 0.8010\n",
      "Epoch 36/100\n",
      "16000/16000 - 3s - loss: 0.4476 - accuracy: 0.8141 - val_loss: 0.5063 - val_accuracy: 0.7943\n",
      "Epoch 37/100\n",
      "16000/16000 - 3s - loss: 0.4436 - accuracy: 0.8211 - val_loss: 0.5308 - val_accuracy: 0.7828\n",
      "Epoch 38/100\n",
      "16000/16000 - 3s - loss: 0.4533 - accuracy: 0.8123 - val_loss: 0.4998 - val_accuracy: 0.7915\n",
      "Epoch 39/100\n",
      "16000/16000 - 3s - loss: 0.4452 - accuracy: 0.8204 - val_loss: 0.4972 - val_accuracy: 0.7955\n",
      "Epoch 40/100\n",
      "16000/16000 - 3s - loss: 0.4387 - accuracy: 0.8175 - val_loss: 0.4989 - val_accuracy: 0.7928\n",
      "Epoch 41/100\n",
      "16000/16000 - 3s - loss: 0.4429 - accuracy: 0.8180 - val_loss: 0.5202 - val_accuracy: 0.7885\n",
      "Epoch 42/100\n",
      "16000/16000 - 2s - loss: 0.4403 - accuracy: 0.8219 - val_loss: 0.5062 - val_accuracy: 0.7910\n",
      "Epoch 43/100\n",
      "16000/16000 - 3s - loss: 0.4392 - accuracy: 0.8199 - val_loss: 0.4991 - val_accuracy: 0.7928\n",
      "Epoch 44/100\n",
      "16000/16000 - 3s - loss: 0.4604 - accuracy: 0.8124 - val_loss: 0.5252 - val_accuracy: 0.7772\n",
      "Epoch 45/100\n",
      "16000/16000 - 3s - loss: 0.4355 - accuracy: 0.8229 - val_loss: 0.5131 - val_accuracy: 0.7862\n",
      "Epoch 46/100\n",
      "16000/16000 - 3s - loss: 0.4386 - accuracy: 0.8223 - val_loss: 0.5058 - val_accuracy: 0.7850\n",
      "Epoch 47/100\n",
      "16000/16000 - 3s - loss: 0.4377 - accuracy: 0.8196 - val_loss: 0.5082 - val_accuracy: 0.7812\n",
      "Epoch 48/100\n",
      "16000/16000 - 3s - loss: 0.4362 - accuracy: 0.8227 - val_loss: 0.5075 - val_accuracy: 0.7918\n",
      "Epoch 49/100\n",
      "16000/16000 - 3s - loss: 0.4372 - accuracy: 0.8229 - val_loss: 0.5086 - val_accuracy: 0.7962\n",
      "Epoch 50/100\n",
      "16000/16000 - 3s - loss: 0.4380 - accuracy: 0.8242 - val_loss: 0.5117 - val_accuracy: 0.7918\n",
      "Epoch 51/100\n",
      "16000/16000 - 2s - loss: 0.4433 - accuracy: 0.8177 - val_loss: 0.5039 - val_accuracy: 0.7943\n",
      "Epoch 52/100\n",
      "16000/16000 - 3s - loss: 0.4326 - accuracy: 0.8288 - val_loss: 0.5086 - val_accuracy: 0.7910\n",
      "Epoch 53/100\n",
      "16000/16000 - 3s - loss: 0.4409 - accuracy: 0.8183 - val_loss: 0.4966 - val_accuracy: 0.7947\n",
      "Epoch 54/100\n",
      "16000/16000 - 3s - loss: 0.4338 - accuracy: 0.8234 - val_loss: 0.5021 - val_accuracy: 0.7935\n",
      "Epoch 55/100\n",
      "16000/16000 - 3s - loss: 0.4391 - accuracy: 0.8197 - val_loss: 0.5349 - val_accuracy: 0.7720\n",
      "Epoch 56/100\n",
      "16000/16000 - 3s - loss: 0.4288 - accuracy: 0.8267 - val_loss: 0.4964 - val_accuracy: 0.7952\n",
      "Epoch 57/100\n",
      "16000/16000 - 3s - loss: 0.4395 - accuracy: 0.8177 - val_loss: 0.5165 - val_accuracy: 0.7825\n",
      "Epoch 58/100\n",
      "16000/16000 - 3s - loss: 0.4331 - accuracy: 0.8223 - val_loss: 0.4931 - val_accuracy: 0.8008\n",
      "Epoch 59/100\n",
      "16000/16000 - 3s - loss: 0.4397 - accuracy: 0.8219 - val_loss: 0.5273 - val_accuracy: 0.7738\n",
      "Epoch 60/100\n",
      "16000/16000 - 3s - loss: 0.4387 - accuracy: 0.8214 - val_loss: 0.5049 - val_accuracy: 0.7952\n",
      "Epoch 61/100\n",
      "16000/16000 - 3s - loss: 0.4421 - accuracy: 0.8216 - val_loss: 0.4883 - val_accuracy: 0.8035\n",
      "Epoch 62/100\n",
      "16000/16000 - 3s - loss: 0.4221 - accuracy: 0.8267 - val_loss: 0.4965 - val_accuracy: 0.7983\n",
      "Epoch 63/100\n",
      "16000/16000 - 3s - loss: 0.4240 - accuracy: 0.8271 - val_loss: 0.5318 - val_accuracy: 0.7753\n",
      "Epoch 64/100\n",
      "16000/16000 - 3s - loss: 0.4380 - accuracy: 0.8170 - val_loss: 0.5211 - val_accuracy: 0.7778\n",
      "Epoch 65/100\n",
      "16000/16000 - 3s - loss: 0.4315 - accuracy: 0.8231 - val_loss: 0.5307 - val_accuracy: 0.7770\n",
      "Epoch 66/100\n",
      "16000/16000 - 3s - loss: 0.4305 - accuracy: 0.8229 - val_loss: 0.5151 - val_accuracy: 0.7812\n",
      "Epoch 67/100\n",
      "16000/16000 - 3s - loss: 0.4443 - accuracy: 0.8211 - val_loss: 0.5333 - val_accuracy: 0.7735\n",
      "Epoch 68/100\n",
      "16000/16000 - 2s - loss: 0.4274 - accuracy: 0.8233 - val_loss: 0.4915 - val_accuracy: 0.8018\n",
      "Epoch 69/100\n",
      "16000/16000 - 3s - loss: 0.4298 - accuracy: 0.8224 - val_loss: 0.5164 - val_accuracy: 0.7822\n",
      "Epoch 70/100\n",
      "16000/16000 - 2s - loss: 0.4225 - accuracy: 0.8292 - val_loss: 0.5075 - val_accuracy: 0.7897\n",
      "Epoch 71/100\n",
      "16000/16000 - 2s - loss: 0.4257 - accuracy: 0.8256 - val_loss: 0.5034 - val_accuracy: 0.7937\n",
      "Epoch 72/100\n",
      "16000/16000 - 3s - loss: 0.4281 - accuracy: 0.8265 - val_loss: 0.5069 - val_accuracy: 0.7862\n",
      "Epoch 73/100\n",
      "16000/16000 - 3s - loss: 0.4302 - accuracy: 0.8232 - val_loss: 0.5152 - val_accuracy: 0.7835\n",
      "Epoch 74/100\n",
      "16000/16000 - 3s - loss: 0.4420 - accuracy: 0.8207 - val_loss: 0.4794 - val_accuracy: 0.8040\n",
      "Epoch 75/100\n",
      "16000/16000 - 3s - loss: 0.4275 - accuracy: 0.8268 - val_loss: 0.5130 - val_accuracy: 0.7895\n",
      "Epoch 76/100\n",
      "16000/16000 - 3s - loss: 0.4299 - accuracy: 0.8284 - val_loss: 0.5416 - val_accuracy: 0.7703\n",
      "Epoch 77/100\n",
      "16000/16000 - 3s - loss: 0.4279 - accuracy: 0.8259 - val_loss: 0.5166 - val_accuracy: 0.7878\n"
     ]
    },
    {
     "name": "stdout",
     "output_type": "stream",
     "text": [
      "Epoch 78/100\n",
      "16000/16000 - 3s - loss: 0.4252 - accuracy: 0.8299 - val_loss: 0.4948 - val_accuracy: 0.8023\n",
      "Epoch 79/100\n",
      "16000/16000 - 2s - loss: 0.4284 - accuracy: 0.8285 - val_loss: 0.5068 - val_accuracy: 0.7885\n",
      "Epoch 80/100\n",
      "16000/16000 - 3s - loss: 0.4353 - accuracy: 0.8242 - val_loss: 0.4986 - val_accuracy: 0.7972\n",
      "Epoch 81/100\n",
      "16000/16000 - 3s - loss: 0.4265 - accuracy: 0.8262 - val_loss: 0.5043 - val_accuracy: 0.7975\n",
      "Epoch 82/100\n",
      "16000/16000 - 3s - loss: 0.4234 - accuracy: 0.8250 - val_loss: 0.5227 - val_accuracy: 0.7900\n",
      "Epoch 83/100\n",
      "16000/16000 - 3s - loss: 0.4286 - accuracy: 0.8244 - val_loss: 0.5308 - val_accuracy: 0.7795\n",
      "Epoch 84/100\n",
      "16000/16000 - 3s - loss: 0.4191 - accuracy: 0.8292 - val_loss: 0.4920 - val_accuracy: 0.7977\n",
      "Epoch 85/100\n",
      "16000/16000 - 3s - loss: 0.4331 - accuracy: 0.8250 - val_loss: 0.5221 - val_accuracy: 0.7900\n",
      "Epoch 86/100\n",
      "16000/16000 - 3s - loss: 0.4220 - accuracy: 0.8289 - val_loss: 0.5114 - val_accuracy: 0.7887\n",
      "Epoch 87/100\n",
      "16000/16000 - 3s - loss: 0.4183 - accuracy: 0.8324 - val_loss: 0.5137 - val_accuracy: 0.7835\n",
      "Epoch 88/100\n",
      "16000/16000 - 3s - loss: 0.4240 - accuracy: 0.8262 - val_loss: 0.5059 - val_accuracy: 0.7968\n",
      "Epoch 89/100\n",
      "16000/16000 - 3s - loss: 0.4224 - accuracy: 0.8296 - val_loss: 0.5152 - val_accuracy: 0.7893\n",
      "Epoch 90/100\n",
      "16000/16000 - 3s - loss: 0.4234 - accuracy: 0.8298 - val_loss: 0.5118 - val_accuracy: 0.7943\n",
      "Epoch 91/100\n",
      "16000/16000 - 3s - loss: 0.4138 - accuracy: 0.8354 - val_loss: 0.5298 - val_accuracy: 0.7788\n",
      "Epoch 92/100\n",
      "16000/16000 - 3s - loss: 0.4144 - accuracy: 0.8322 - val_loss: 0.4908 - val_accuracy: 0.8033\n",
      "Epoch 93/100\n",
      "16000/16000 - 3s - loss: 0.4170 - accuracy: 0.8302 - val_loss: 0.5189 - val_accuracy: 0.7860\n",
      "Epoch 94/100\n",
      "16000/16000 - 3s - loss: 0.4243 - accuracy: 0.8272 - val_loss: 0.5071 - val_accuracy: 0.7900\n",
      "Epoch 95/100\n",
      "16000/16000 - 3s - loss: 0.4198 - accuracy: 0.8298 - val_loss: 0.5180 - val_accuracy: 0.7912\n",
      "Epoch 96/100\n",
      "16000/16000 - 3s - loss: 0.4228 - accuracy: 0.8289 - val_loss: 0.5233 - val_accuracy: 0.7782\n",
      "Epoch 97/100\n",
      "16000/16000 - 3s - loss: 0.4264 - accuracy: 0.8246 - val_loss: 0.5031 - val_accuracy: 0.7968\n",
      "Epoch 98/100\n",
      "16000/16000 - 2s - loss: 0.4242 - accuracy: 0.8280 - val_loss: 0.5137 - val_accuracy: 0.7912\n",
      "Epoch 99/100\n",
      "16000/16000 - 3s - loss: 0.4221 - accuracy: 0.8264 - val_loss: 0.5167 - val_accuracy: 0.7805\n",
      "Epoch 100/100\n",
      "16000/16000 - 3s - loss: 0.4062 - accuracy: 0.8352 - val_loss: 0.5452 - val_accuracy: 0.7728\n"
     ]
    }
   ],
   "source": [
    "# callbacks=[rlrop]\n",
    "result = model.fit(data_X, data_y, validation_split=0.2, epochs=100, batch_size=64, verbose=2, shuffle=True)\n",
    "#model.fit(X_train, trainY, validation_data=(X_test, testY), epochs=30, batch_size=64, verbose=2)\n",
    "\n",
    "#model.fit(X_sm, y_sm, validation_data=(X_test, testY), epochs=30, batch_size=64, verbose=2, class_weight=class_weight)\n",
    "\n",
    "#model.fit(X_train, trainY, epochs=30, batch_size=64, verbose=2)"
   ]
  },
  {
   "cell_type": "code",
   "execution_count": 99,
   "metadata": {},
   "outputs": [
    {
     "data": {
      "text/plain": [
       "0.78846765"
      ]
     },
     "execution_count": 99,
     "metadata": {},
     "output_type": "execute_result"
    }
   ],
   "source": [
    "np.mean(result.history['val_accuracy'])"
   ]
  },
  {
   "cell_type": "code",
   "execution_count": 100,
   "metadata": {},
   "outputs": [],
   "source": [
    "submission_pred_NN = model.predict_classes(x_submission_scaled)\n",
    "NN_submission_pred_df = pd.DataFrame(data=submission_pred_NN, columns=['greatstone_rating']) \n",
    "final_submission_NN = pd.concat([sample_submission['fund_id'], NN_submission_pred_df], axis=1) \n",
    "final_submission_NN.to_csv('NN_out.csv', index=False)"
   ]
  },
  {
   "cell_type": "code",
   "execution_count": 1018,
   "metadata": {},
   "outputs": [],
   "source": [
    "# Redo below variable as dummy columns added and currency colunm dropped\n",
    "#submission_fundids = fund_ratios_specs.loc[fund_ratios_specs['fund_id'].isin(sample_submission['fund_id'])]"
   ]
  },
  {
   "cell_type": "markdown",
   "metadata": {},
   "source": [
    "import seaborn as sns"
   ]
  },
  {
   "cell_type": "markdown",
   "metadata": {},
   "source": [
    "sns.countplot(fundids_NOT_in_sample_submission['greatstone_rating'])"
   ]
  },
  {
   "cell_type": "markdown",
   "metadata": {},
   "source": [
    "import matplotlib.pyplot as plt"
   ]
  },
  {
   "cell_type": "markdown",
   "metadata": {},
   "source": [
    "\n",
    "plt.figure(figsize=(10,8))\n",
    "sns.heatmap(fundids_NOT_in_sample_submission.corr(),\n",
    "            annot=True,\n",
    "            linewidths=.5,\n",
    "            center=0,\n",
    "            cbar=False,\n",
    "            cmap=\"YlGnBu\")\n",
    "plt.show()"
   ]
  },
  {
   "cell_type": "code",
   "execution_count": 104,
   "metadata": {},
   "outputs": [],
   "source": [
    "from sklearn.tree import DecisionTreeClassifier\n",
    "from sklearn import metrics\n",
    "from sklearn.metrics import accuracy_score,f1_score,recall_score,precision_score, confusion_matrix"
   ]
  },
  {
   "cell_type": "code",
   "execution_count": 95,
   "metadata": {},
   "outputs": [],
   "source": [
    "model_entropy=DecisionTreeClassifier(criterion='entropy')"
   ]
  },
  {
   "cell_type": "code",
   "execution_count": 96,
   "metadata": {},
   "outputs": [
    {
     "data": {
      "text/plain": [
       "DecisionTreeClassifier(class_weight=None, criterion='entropy', max_depth=None,\n",
       "            max_features=None, max_leaf_nodes=None,\n",
       "            min_impurity_decrease=0.0, min_impurity_split=None,\n",
       "            min_samples_leaf=1, min_samples_split=2,\n",
       "            min_weight_fraction_leaf=0.0, presort=False, random_state=None,\n",
       "            splitter='best')"
      ]
     },
     "execution_count": 96,
     "metadata": {},
     "output_type": "execute_result"
    }
   ],
   "source": [
    "model_entropy.fit(X_train, y_train)"
   ]
  },
  {
   "cell_type": "code",
   "execution_count": 97,
   "metadata": {},
   "outputs": [
    {
     "data": {
      "text/plain": [
       "1.0"
      ]
     },
     "execution_count": 97,
     "metadata": {},
     "output_type": "execute_result"
    }
   ],
   "source": [
    "model_entropy.score(X_train, y_train)  # performance on train data"
   ]
  },
  {
   "cell_type": "code",
   "execution_count": 98,
   "metadata": {},
   "outputs": [
    {
     "data": {
      "text/plain": [
       "0.6983333333333334"
      ]
     },
     "execution_count": 98,
     "metadata": {},
     "output_type": "execute_result"
    }
   ],
   "source": [
    "model_entropy.score(X_test, y_test)  # performance on test data"
   ]
  },
  {
   "cell_type": "code",
   "execution_count": 99,
   "metadata": {},
   "outputs": [
    {
     "data": {
      "text/plain": [
       "DecisionTreeClassifier(class_weight=None, criterion='entropy', max_depth=3,\n",
       "            max_features=None, max_leaf_nodes=None,\n",
       "            min_impurity_decrease=0.0, min_impurity_split=None,\n",
       "            min_samples_leaf=5, min_samples_split=2,\n",
       "            min_weight_fraction_leaf=0.0, presort=False, random_state=100,\n",
       "            splitter='best')"
      ]
     },
     "execution_count": 99,
     "metadata": {},
     "output_type": "execute_result"
    }
   ],
   "source": [
    "clf_pruned = DecisionTreeClassifier(criterion = \"entropy\", random_state = 100,\n",
    "                               max_depth=3, min_samples_leaf=5)\n",
    "clf_pruned.fit(X_train, y_train)"
   ]
  },
  {
   "cell_type": "code",
   "execution_count": 100,
   "metadata": {},
   "outputs": [],
   "source": [
    "preds_pruned = clf_pruned.predict(X_test)\n",
    "preds_pruned_train = clf_pruned.predict(X_train)"
   ]
  },
  {
   "cell_type": "code",
   "execution_count": 101,
   "metadata": {},
   "outputs": [
    {
     "name": "stdout",
     "output_type": "stream",
     "text": [
      "0.4548333333333333\n",
      "0.4541428571428571\n"
     ]
    }
   ],
   "source": [
    "print(accuracy_score(y_test,preds_pruned))\n",
    "print(accuracy_score(y_train,preds_pruned_train))"
   ]
  },
  {
   "cell_type": "code",
   "execution_count": 371,
   "metadata": {},
   "outputs": [],
   "source": [
    "## Calculating feature importance\n",
    "\n",
    "feat_importance = clf_pruned.tree_.compute_feature_importances(normalize=False)\n",
    "\n",
    "\n",
    "feat_imp_dict = dict(zip(fundids_NOT_in_sample_submission.columns, clf_pruned.feature_importances_))\n",
    "feat_imp = pd.DataFrame.from_dict(feat_imp_dict, orient='index')\n",
    "#feat_imp.sort_values(by=0, ascending=False)"
   ]
  },
  {
   "cell_type": "code",
   "execution_count": 593,
   "metadata": {},
   "outputs": [],
   "source": [
    "from xgboost import XGBClassifier\n"
   ]
  },
  {
   "cell_type": "code",
   "execution_count": 594,
   "metadata": {},
   "outputs": [],
   "source": [
    "xgb_clf = XGBClassifier(n_estimators=1000)"
   ]
  },
  {
   "cell_type": "code",
   "execution_count": 595,
   "metadata": {},
   "outputs": [
    {
     "data": {
      "text/plain": [
       "XGBClassifier(base_score=0.5, booster='gbtree', colsample_bylevel=1,\n",
       "       colsample_bynode=1, colsample_bytree=1, gamma=0, learning_rate=0.1,\n",
       "       max_delta_step=0, max_depth=3, min_child_weight=1, missing=None,\n",
       "       n_estimators=1000, n_jobs=1, nthread=None,\n",
       "       objective='multi:softprob', random_state=0, reg_alpha=0,\n",
       "       reg_lambda=1, scale_pos_weight=1, seed=None, silent=None,\n",
       "       subsample=1, verbosity=1)"
      ]
     },
     "execution_count": 595,
     "metadata": {},
     "output_type": "execute_result"
    }
   ],
   "source": [
    "xgb_clf.fit(X_train, y_train)"
   ]
  },
  {
   "cell_type": "code",
   "execution_count": 596,
   "metadata": {},
   "outputs": [
    {
     "data": {
      "text/plain": [
       "XGBClassifier(base_score=0.5, booster='gbtree', colsample_bylevel=1,\n",
       "       colsample_bynode=1, colsample_bytree=1, gamma=0, learning_rate=0.1,\n",
       "       max_delta_step=0, max_depth=3, min_child_weight=1, missing=None,\n",
       "       n_estimators=1000, n_jobs=1, nthread=None,\n",
       "       objective='multi:softprob', random_state=0, reg_alpha=0,\n",
       "       reg_lambda=1, scale_pos_weight=1, seed=None, silent=None,\n",
       "       subsample=1, verbosity=1)"
      ]
     },
     "execution_count": 596,
     "metadata": {},
     "output_type": "execute_result"
    }
   ],
   "source": [
    "xgb_clf"
   ]
  },
  {
   "cell_type": "code",
   "execution_count": 597,
   "metadata": {},
   "outputs": [],
   "source": [
    "pred_xgb = xgb_clf.predict(X_test)"
   ]
  },
  {
   "cell_type": "code",
   "execution_count": 598,
   "metadata": {},
   "outputs": [],
   "source": [
    "acc_xgb = accuracy_score(y_test, pred_xgb)"
   ]
  },
  {
   "cell_type": "code",
   "execution_count": 599,
   "metadata": {},
   "outputs": [
    {
     "name": "stdout",
     "output_type": "stream",
     "text": [
      "0.7793333333333333\n"
     ]
    }
   ],
   "source": [
    "print(acc_xgb)"
   ]
  },
  {
   "cell_type": "code",
   "execution_count": 600,
   "metadata": {},
   "outputs": [],
   "source": [
    "submission_pred_xgb = xgb_clf.predict(submission_data_x)\n",
    "xgb_submission_pred_df = pd.DataFrame(data=submission_pred_xgb, columns=['greatstone_rating'])\n",
    "final_submission_xgb = pd.concat([sample_submission['fund_id'], xgb_submission_pred_df], axis=1)\n",
    "final_submission_xgb.to_csv('XGB_out.csv', index=False)"
   ]
  },
  {
   "cell_type": "code",
   "execution_count": null,
   "metadata": {},
   "outputs": [],
   "source": []
  },
  {
   "cell_type": "code",
   "execution_count": null,
   "metadata": {},
   "outputs": [],
   "source": []
  },
  {
   "cell_type": "markdown",
   "metadata": {},
   "source": [
    "### PREDICTION USING RANDOM FOREST "
   ]
  },
  {
   "cell_type": "code",
   "execution_count": 81,
   "metadata": {},
   "outputs": [],
   "source": [
    "#from sklearn.utils import class_weight\n",
    "#class_weight1 = class_weight.compute_class_weight('balanced', np.unique(y_train), y_train)"
   ]
  },
  {
   "cell_type": "code",
   "execution_count": 96,
   "metadata": {},
   "outputs": [
    {
     "name": "stdout",
     "output_type": "stream",
     "text": [
      "{'n_estimators': [200, 400, 600, 800, 1000, 1200, 1400, 1600, 1800, 2000], 'max_features': ['auto', 'sqrt'], 'max_depth': [10, 20, 30, 40, 50, 60, 70, 80, 90, 100, 110, None], 'min_samples_split': [2, 5, 10], 'min_samples_leaf': [1, 2, 4], 'bootstrap': [True, False]}\n"
     ]
    }
   ],
   "source": [
    "from sklearn.model_selection import RandomizedSearchCV\n",
    "# Number of trees in random forest\n",
    "n_estimators = [int(x) for x in np.linspace(start = 200, stop = 2000, num = 10)]\n",
    "# Number of features to consider at every split\n",
    "max_features = ['auto', 'sqrt']\n",
    "# Maximum number of levels in tree\n",
    "max_depth = [int(x) for x in np.linspace(10, 110, num = 11)]\n",
    "max_depth.append(None)\n",
    "# Minimum number of samples required to split a node\n",
    "min_samples_split = [2, 5, 10]\n",
    "# Minimum number of samples required at each leaf node\n",
    "min_samples_leaf = [1, 2, 4]\n",
    "# Method of selecting samples for training each tree\n",
    "bootstrap = [True, False]\n",
    "# Create the random grid\n",
    "random_grid = {'n_estimators': n_estimators,\n",
    "               'max_features': max_features,\n",
    "               'max_depth': max_depth,\n",
    "               'min_samples_split': min_samples_split,\n",
    "               'min_samples_leaf': min_samples_leaf,\n",
    "               'bootstrap': bootstrap}\n",
    "print(random_grid)"
   ]
  },
  {
   "cell_type": "code",
   "execution_count": 97,
   "metadata": {},
   "outputs": [],
   "source": [
    "# Use the random grid to search for best hyperparameters\n",
    "# First create the base model to tune\n",
    "from sklearn.ensemble import RandomForestClassifier\n",
    "rfcl = RandomForestClassifier()\n",
    "# Random search of parameters, using 3 fold cross validation, \n",
    "# search across 100 different combinations, and use all available cores\n",
    "#rf_random = RandomizedSearchCV(estimator = rfcl, param_distributions = random_grid, n_iter = 100, cv = 3, verbose=2, random_state=42, n_jobs = -1)\n",
    "# Fit the random search model\n",
    "#rf_random.fit(X_train, y_train)"
   ]
  },
  {
   "cell_type": "code",
   "execution_count": null,
   "metadata": {},
   "outputs": [],
   "source": []
  },
  {
   "cell_type": "code",
   "execution_count": 98,
   "metadata": {},
   "outputs": [],
   "source": [
    "#rf_random.best_params_"
   ]
  },
  {
   "cell_type": "code",
   "execution_count": 101,
   "metadata": {},
   "outputs": [],
   "source": [
    "from sklearn.ensemble import RandomForestClassifier\n",
    "#rfcl = RandomForestClassifier(n_estimators = 800, min_samples_split=2, min_samples_leaf=2, max_features='sqrt', max_depth=50, bootstrap='False', random_state=100)\n",
    "rfcl = RandomForestClassifier(n_estimators=1000, random_state=100, bootstrap=False)\n",
    "rfcl = rfcl.fit(X_train, y_train)"
   ]
  },
  {
   "cell_type": "code",
   "execution_count": 102,
   "metadata": {},
   "outputs": [
    {
     "data": {
      "text/plain": [
       "RandomForestClassifier(bootstrap=False, class_weight=None, criterion='gini',\n",
       "            max_depth=None, max_features='auto', max_leaf_nodes=None,\n",
       "            min_impurity_decrease=0.0, min_impurity_split=None,\n",
       "            min_samples_leaf=1, min_samples_split=2,\n",
       "            min_weight_fraction_leaf=0.0, n_estimators=1000, n_jobs=None,\n",
       "            oob_score=False, random_state=100, verbose=0, warm_start=False)"
      ]
     },
     "execution_count": 102,
     "metadata": {},
     "output_type": "execute_result"
    }
   ],
   "source": [
    "rfcl"
   ]
  },
  {
   "cell_type": "code",
   "execution_count": 105,
   "metadata": {},
   "outputs": [],
   "source": [
    "pred_RF = rfcl.predict(X_test)\n",
    "acc_RF = accuracy_score(y_test, pred_RF)"
   ]
  },
  {
   "cell_type": "code",
   "execution_count": 106,
   "metadata": {},
   "outputs": [
    {
     "data": {
      "text/plain": [
       "array([[0., 0., 1., 0., 0., 0.],\n",
       "       [0., 0., 0., 1., 0., 0.],\n",
       "       [0., 0., 1., 0., 0., 0.],\n",
       "       ...,\n",
       "       [0., 0., 1., 0., 0., 0.],\n",
       "       [0., 0., 0., 0., 1., 0.],\n",
       "       [0., 0., 1., 0., 0., 0.]])"
      ]
     },
     "execution_count": 106,
     "metadata": {},
     "output_type": "execute_result"
    }
   ],
   "source": [
    "pred_RF"
   ]
  },
  {
   "cell_type": "code",
   "execution_count": 107,
   "metadata": {},
   "outputs": [
    {
     "name": "stdout",
     "output_type": "stream",
     "text": [
      "0.7225\n"
     ]
    }
   ],
   "source": [
    "print(acc_RF)"
   ]
  },
  {
   "cell_type": "code",
   "execution_count": 93,
   "metadata": {},
   "outputs": [
    {
     "data": {
      "text/html": [
       "<div>\n",
       "<style scoped>\n",
       "    .dataframe tbody tr th:only-of-type {\n",
       "        vertical-align: middle;\n",
       "    }\n",
       "\n",
       "    .dataframe tbody tr th {\n",
       "        vertical-align: top;\n",
       "    }\n",
       "\n",
       "    .dataframe thead th {\n",
       "        text-align: right;\n",
       "    }\n",
       "</style>\n",
       "<table border=\"1\" class=\"dataframe\">\n",
       "  <thead>\n",
       "    <tr style=\"text-align: right;\">\n",
       "      <th></th>\n",
       "      <th>0</th>\n",
       "    </tr>\n",
       "  </thead>\n",
       "  <tbody>\n",
       "    <tr>\n",
       "      <th>fund_return_3years_x</th>\n",
       "      <td>0.040779</td>\n",
       "    </tr>\n",
       "    <tr>\n",
       "      <th>fund_return_3years_y</th>\n",
       "      <td>0.039449</td>\n",
       "    </tr>\n",
       "    <tr>\n",
       "      <th>3_years_alpha_fund</th>\n",
       "      <td>0.031910</td>\n",
       "    </tr>\n",
       "    <tr>\n",
       "      <th>5_years_return_fund</th>\n",
       "      <td>0.031752</td>\n",
       "    </tr>\n",
       "    <tr>\n",
       "      <th>5_years_alpha_fund</th>\n",
       "      <td>0.029731</td>\n",
       "    </tr>\n",
       "    <tr>\n",
       "      <th>5yrs_sharpe_ratio_fund</th>\n",
       "      <td>0.028746</td>\n",
       "    </tr>\n",
       "    <tr>\n",
       "      <th>3yrs_sharpe_ratio_fund</th>\n",
       "      <td>0.027337</td>\n",
       "    </tr>\n",
       "    <tr>\n",
       "      <th>3yrs_treynor_ratio_fund</th>\n",
       "      <td>0.022984</td>\n",
       "    </tr>\n",
       "    <tr>\n",
       "      <th>10_years_return_fund</th>\n",
       "      <td>0.022470</td>\n",
       "    </tr>\n",
       "    <tr>\n",
       "      <th>5_years_return_mean_annual_fund</th>\n",
       "      <td>0.022241</td>\n",
       "    </tr>\n",
       "    <tr>\n",
       "      <th>5yrs_treynor_ratio_fund</th>\n",
       "      <td>0.021741</td>\n",
       "    </tr>\n",
       "    <tr>\n",
       "      <th>3_years_return_mean_annual_fund</th>\n",
       "      <td>0.019793</td>\n",
       "    </tr>\n",
       "    <tr>\n",
       "      <th>inception_date</th>\n",
       "      <td>0.017740</td>\n",
       "    </tr>\n",
       "    <tr>\n",
       "      <th>10_years_alpha_fund</th>\n",
       "      <td>0.017126</td>\n",
       "    </tr>\n",
       "    <tr>\n",
       "      <th>10yrs_sharpe_ratio_fund</th>\n",
       "      <td>0.016065</td>\n",
       "    </tr>\n",
       "    <tr>\n",
       "      <th>10_years_return_mean_annual_fund</th>\n",
       "      <td>0.015850</td>\n",
       "    </tr>\n",
       "    <tr>\n",
       "      <th>10yrs_treynor_ratio_fund</th>\n",
       "      <td>0.014582</td>\n",
       "    </tr>\n",
       "    <tr>\n",
       "      <th>fund_ratio_net_annual_expense</th>\n",
       "      <td>0.013745</td>\n",
       "    </tr>\n",
       "    <tr>\n",
       "      <th>3years_fund_r_squared</th>\n",
       "      <td>0.013629</td>\n",
       "    </tr>\n",
       "    <tr>\n",
       "      <th>1_year_return_fund</th>\n",
       "      <td>0.012933</td>\n",
       "    </tr>\n",
       "    <tr>\n",
       "      <th>total_assets</th>\n",
       "      <td>0.012256</td>\n",
       "    </tr>\n",
       "    <tr>\n",
       "      <th>2018_return_fund</th>\n",
       "      <td>0.011641</td>\n",
       "    </tr>\n",
       "    <tr>\n",
       "      <th>3years_fund_std</th>\n",
       "      <td>0.011544</td>\n",
       "    </tr>\n",
       "    <tr>\n",
       "      <th>2016_return_fund</th>\n",
       "      <td>0.011397</td>\n",
       "    </tr>\n",
       "    <tr>\n",
       "      <th>fund_beta_3years</th>\n",
       "      <td>0.011371</td>\n",
       "    </tr>\n",
       "    <tr>\n",
       "      <th>2015_return_fund</th>\n",
       "      <td>0.011075</td>\n",
       "    </tr>\n",
       "    <tr>\n",
       "      <th>2017_return_fund</th>\n",
       "      <td>0.010948</td>\n",
       "    </tr>\n",
       "    <tr>\n",
       "      <th>5_years_return_category</th>\n",
       "      <td>0.010888</td>\n",
       "    </tr>\n",
       "    <tr>\n",
       "      <th>yield</th>\n",
       "      <td>0.010725</td>\n",
       "    </tr>\n",
       "    <tr>\n",
       "      <th>2014_return_fund</th>\n",
       "      <td>0.010276</td>\n",
       "    </tr>\n",
       "    <tr>\n",
       "      <th>...</th>\n",
       "      <td>...</td>\n",
       "    </tr>\n",
       "    <tr>\n",
       "      <th>others_rating</th>\n",
       "      <td>0.003396</td>\n",
       "    </tr>\n",
       "    <tr>\n",
       "      <th>bb_rating</th>\n",
       "      <td>0.003171</td>\n",
       "    </tr>\n",
       "    <tr>\n",
       "      <th>bbb_rating</th>\n",
       "      <td>0.003169</td>\n",
       "    </tr>\n",
       "    <tr>\n",
       "      <th>a_rating</th>\n",
       "      <td>0.002989</td>\n",
       "    </tr>\n",
       "    <tr>\n",
       "      <th>aa_rating</th>\n",
       "      <td>0.002944</td>\n",
       "    </tr>\n",
       "    <tr>\n",
       "      <th>2010_return_category</th>\n",
       "      <td>0.002885</td>\n",
       "    </tr>\n",
       "    <tr>\n",
       "      <th>10years_category_std</th>\n",
       "      <td>0.002875</td>\n",
       "    </tr>\n",
       "    <tr>\n",
       "      <th>portfolio_convertable</th>\n",
       "      <td>0.002806</td>\n",
       "    </tr>\n",
       "    <tr>\n",
       "      <th>2011_return_category</th>\n",
       "      <td>0.002779</td>\n",
       "    </tr>\n",
       "    <tr>\n",
       "      <th>5years_category_std</th>\n",
       "      <td>0.002658</td>\n",
       "    </tr>\n",
       "    <tr>\n",
       "      <th>5yrs_sharpe_ratio_category</th>\n",
       "      <td>0.002591</td>\n",
       "    </tr>\n",
       "    <tr>\n",
       "      <th>below_b_rating</th>\n",
       "      <td>0.002518</td>\n",
       "    </tr>\n",
       "    <tr>\n",
       "      <th>b_rating</th>\n",
       "      <td>0.002483</td>\n",
       "    </tr>\n",
       "    <tr>\n",
       "      <th>portfolio_preferred</th>\n",
       "      <td>0.002452</td>\n",
       "    </tr>\n",
       "    <tr>\n",
       "      <th>3years_category_std</th>\n",
       "      <td>0.002249</td>\n",
       "    </tr>\n",
       "    <tr>\n",
       "      <th>3yrs_sharpe_ratio_category</th>\n",
       "      <td>0.001554</td>\n",
       "    </tr>\n",
       "    <tr>\n",
       "      <th>5_years_return_mean_annual_category</th>\n",
       "      <td>0.001164</td>\n",
       "    </tr>\n",
       "    <tr>\n",
       "      <th>investment_class_Blend</th>\n",
       "      <td>0.000940</td>\n",
       "    </tr>\n",
       "    <tr>\n",
       "      <th>10_years_return_mean_annual_category</th>\n",
       "      <td>0.000916</td>\n",
       "    </tr>\n",
       "    <tr>\n",
       "      <th>investment_class_Value</th>\n",
       "      <td>0.000800</td>\n",
       "    </tr>\n",
       "    <tr>\n",
       "      <th>investment_class_Growth</th>\n",
       "      <td>0.000782</td>\n",
       "    </tr>\n",
       "    <tr>\n",
       "      <th>fund_size_Medium</th>\n",
       "      <td>0.000750</td>\n",
       "    </tr>\n",
       "    <tr>\n",
       "      <th>fund_size_Large</th>\n",
       "      <td>0.000699</td>\n",
       "    </tr>\n",
       "    <tr>\n",
       "      <th>3_years_return_mean_annual_category</th>\n",
       "      <td>0.000663</td>\n",
       "    </tr>\n",
       "    <tr>\n",
       "      <th>5_years_beta_category</th>\n",
       "      <td>0.000491</td>\n",
       "    </tr>\n",
       "    <tr>\n",
       "      <th>10yrs_sharpe_ratio_category</th>\n",
       "      <td>0.000490</td>\n",
       "    </tr>\n",
       "    <tr>\n",
       "      <th>10_years_beta_category</th>\n",
       "      <td>0.000473</td>\n",
       "    </tr>\n",
       "    <tr>\n",
       "      <th>category_beta_3years</th>\n",
       "      <td>0.000447</td>\n",
       "    </tr>\n",
       "    <tr>\n",
       "      <th>fund_size_Small</th>\n",
       "      <td>0.000411</td>\n",
       "    </tr>\n",
       "    <tr>\n",
       "      <th>us_govt_bond_rating</th>\n",
       "      <td>0.000000</td>\n",
       "    </tr>\n",
       "  </tbody>\n",
       "</table>\n",
       "<p>123 rows × 1 columns</p>\n",
       "</div>"
      ],
      "text/plain": [
       "                                             0\n",
       "fund_return_3years_x                  0.040779\n",
       "fund_return_3years_y                  0.039449\n",
       "3_years_alpha_fund                    0.031910\n",
       "5_years_return_fund                   0.031752\n",
       "5_years_alpha_fund                    0.029731\n",
       "5yrs_sharpe_ratio_fund                0.028746\n",
       "3yrs_sharpe_ratio_fund                0.027337\n",
       "3yrs_treynor_ratio_fund               0.022984\n",
       "10_years_return_fund                  0.022470\n",
       "5_years_return_mean_annual_fund       0.022241\n",
       "5yrs_treynor_ratio_fund               0.021741\n",
       "3_years_return_mean_annual_fund       0.019793\n",
       "inception_date                        0.017740\n",
       "10_years_alpha_fund                   0.017126\n",
       "10yrs_sharpe_ratio_fund               0.016065\n",
       "10_years_return_mean_annual_fund      0.015850\n",
       "10yrs_treynor_ratio_fund              0.014582\n",
       "fund_ratio_net_annual_expense         0.013745\n",
       "3years_fund_r_squared                 0.013629\n",
       "1_year_return_fund                    0.012933\n",
       "total_assets                          0.012256\n",
       "2018_return_fund                      0.011641\n",
       "3years_fund_std                       0.011544\n",
       "2016_return_fund                      0.011397\n",
       "fund_beta_3years                      0.011371\n",
       "2015_return_fund                      0.011075\n",
       "2017_return_fund                      0.010948\n",
       "5_years_return_category               0.010888\n",
       "yield                                 0.010725\n",
       "2014_return_fund                      0.010276\n",
       "...                                        ...\n",
       "others_rating                         0.003396\n",
       "bb_rating                             0.003171\n",
       "bbb_rating                            0.003169\n",
       "a_rating                              0.002989\n",
       "aa_rating                             0.002944\n",
       "2010_return_category                  0.002885\n",
       "10years_category_std                  0.002875\n",
       "portfolio_convertable                 0.002806\n",
       "2011_return_category                  0.002779\n",
       "5years_category_std                   0.002658\n",
       "5yrs_sharpe_ratio_category            0.002591\n",
       "below_b_rating                        0.002518\n",
       "b_rating                              0.002483\n",
       "portfolio_preferred                   0.002452\n",
       "3years_category_std                   0.002249\n",
       "3yrs_sharpe_ratio_category            0.001554\n",
       "5_years_return_mean_annual_category   0.001164\n",
       "investment_class_Blend                0.000940\n",
       "10_years_return_mean_annual_category  0.000916\n",
       "investment_class_Value                0.000800\n",
       "investment_class_Growth               0.000782\n",
       "fund_size_Medium                      0.000750\n",
       "fund_size_Large                       0.000699\n",
       "3_years_return_mean_annual_category   0.000663\n",
       "5_years_beta_category                 0.000491\n",
       "10yrs_sharpe_ratio_category           0.000490\n",
       "10_years_beta_category                0.000473\n",
       "category_beta_3years                  0.000447\n",
       "fund_size_Small                       0.000411\n",
       "us_govt_bond_rating                   0.000000\n",
       "\n",
       "[123 rows x 1 columns]"
      ]
     },
     "execution_count": 93,
     "metadata": {},
     "output_type": "execute_result"
    }
   ],
   "source": [
    "## Calculating feature importance\n",
    "\n",
    "feat_importance = rfcl.feature_importances_\n",
    "\n",
    "feat_imp_dict = dict(zip(fundids_NOT_in_sample_submission.columns, rfcl.feature_importances_))\n",
    "feat_imp = pd.DataFrame.from_dict(feat_imp_dict, orient='index')\n",
    "#feat_imp.sort_values(by=0, ascending=False)"
   ]
  },
  {
   "cell_type": "markdown",
   "metadata": {},
   "source": [
    "### FINAL SUBMISSION "
   ]
  },
  {
   "cell_type": "code",
   "execution_count": 607,
   "metadata": {},
   "outputs": [],
   "source": [
    "submission_pred_RF = rfcl.predict(submission_data_x)\n"
   ]
  },
  {
   "cell_type": "code",
   "execution_count": 608,
   "metadata": {},
   "outputs": [
    {
     "name": "stdout",
     "output_type": "stream",
     "text": [
      "[4. 3. 4. ... 4. 4. 4.]\n"
     ]
    }
   ],
   "source": [
    "print(submission_pred_RF)"
   ]
  },
  {
   "cell_type": "code",
   "execution_count": 609,
   "metadata": {},
   "outputs": [
    {
     "data": {
      "text/plain": [
       "(5000,)"
      ]
     },
     "execution_count": 609,
     "metadata": {},
     "output_type": "execute_result"
    }
   ],
   "source": [
    "submission_pred_RF.shape"
   ]
  },
  {
   "cell_type": "code",
   "execution_count": 610,
   "metadata": {},
   "outputs": [],
   "source": [
    "RF_submission_pred_df = pd.DataFrame(data=submission_pred_RF, columns=['greatstone_rating'])"
   ]
  },
  {
   "cell_type": "code",
   "execution_count": 611,
   "metadata": {},
   "outputs": [],
   "source": [
    "#submission_pred_df"
   ]
  },
  {
   "cell_type": "code",
   "execution_count": 612,
   "metadata": {},
   "outputs": [],
   "source": [
    "final_submission_RF = pd.concat([sample_submission['fund_id'], RF_submission_pred_df], axis=1)"
   ]
  },
  {
   "cell_type": "code",
   "execution_count": 613,
   "metadata": {},
   "outputs": [],
   "source": [
    "final_submission_RF.to_csv('RF_out.csv', index=False)"
   ]
  },
  {
   "cell_type": "code",
   "execution_count": 614,
   "metadata": {},
   "outputs": [
    {
     "data": {
      "text/html": [
       "<div>\n",
       "<style scoped>\n",
       "    .dataframe tbody tr th:only-of-type {\n",
       "        vertical-align: middle;\n",
       "    }\n",
       "\n",
       "    .dataframe tbody tr th {\n",
       "        vertical-align: top;\n",
       "    }\n",
       "\n",
       "    .dataframe thead th {\n",
       "        text-align: right;\n",
       "    }\n",
       "</style>\n",
       "<table border=\"1\" class=\"dataframe\">\n",
       "  <thead>\n",
       "    <tr style=\"text-align: right;\">\n",
       "      <th></th>\n",
       "      <th>fund_id</th>\n",
       "      <th>greatstone_rating</th>\n",
       "    </tr>\n",
       "  </thead>\n",
       "  <tbody>\n",
       "    <tr>\n",
       "      <th>0</th>\n",
       "      <td>85a6edf9-db47-490c-981a-168ce90434bb</td>\n",
       "      <td>4.0</td>\n",
       "    </tr>\n",
       "    <tr>\n",
       "      <th>1</th>\n",
       "      <td>654dac08-5e5d-4cf0-870e-3167087de7d2</td>\n",
       "      <td>3.0</td>\n",
       "    </tr>\n",
       "    <tr>\n",
       "      <th>2</th>\n",
       "      <td>75214019-f876-42a9-a316-328b759ac4ba</td>\n",
       "      <td>4.0</td>\n",
       "    </tr>\n",
       "    <tr>\n",
       "      <th>3</th>\n",
       "      <td>1fe8de6d-cd33-489e-a829-211f1f622eed</td>\n",
       "      <td>0.0</td>\n",
       "    </tr>\n",
       "    <tr>\n",
       "      <th>4</th>\n",
       "      <td>bd87a7a0-6ca5-4607-a0cf-d396ecd6037a</td>\n",
       "      <td>3.0</td>\n",
       "    </tr>\n",
       "  </tbody>\n",
       "</table>\n",
       "</div>"
      ],
      "text/plain": [
       "                                fund_id  greatstone_rating\n",
       "0  85a6edf9-db47-490c-981a-168ce90434bb                4.0\n",
       "1  654dac08-5e5d-4cf0-870e-3167087de7d2                3.0\n",
       "2  75214019-f876-42a9-a316-328b759ac4ba                4.0\n",
       "3  1fe8de6d-cd33-489e-a829-211f1f622eed                0.0\n",
       "4  bd87a7a0-6ca5-4607-a0cf-d396ecd6037a                3.0"
      ]
     },
     "execution_count": 614,
     "metadata": {},
     "output_type": "execute_result"
    }
   ],
   "source": [
    "final_submission_RF.head()"
   ]
  },
  {
   "cell_type": "markdown",
   "metadata": {},
   "source": [
    "### END"
   ]
  },
  {
   "cell_type": "code",
   "execution_count": 615,
   "metadata": {},
   "outputs": [
    {
     "name": "stdout",
     "output_type": "stream",
     "text": [
      "AdaBoost accuracy:  0.4525\n"
     ]
    }
   ],
   "source": [
    "from sklearn.ensemble import AdaBoostClassifier\n",
    "abcl = AdaBoostClassifier( n_estimators= 100, learning_rate=0.1, random_state=22)\n",
    "abcl = abcl.fit(X_train, y_train)\n",
    "pred_AB =abcl.predict(X_test)\n",
    "acc_AB = accuracy_score(y_test, pred_AB)\n",
    "print(\"AdaBoost accuracy: \", acc_AB)"
   ]
  },
  {
   "cell_type": "code",
   "execution_count": 616,
   "metadata": {},
   "outputs": [
    {
     "name": "stdout",
     "output_type": "stream",
     "text": [
      "0.7853333333333333\n"
     ]
    }
   ],
   "source": [
    "from sklearn.ensemble import BaggingClassifier\n",
    "\n",
    "bgcl = BaggingClassifier(n_estimators=800, max_samples= .7, bootstrap=True, oob_score=True, random_state=22)\n",
    "bgcl = bgcl.fit(X_train, y_train)\n",
    "pred_BG =bgcl.predict(X_test)\n",
    "acc_BG = accuracy_score(y_test, pred_BG)\n",
    "print(acc_BG)"
   ]
  },
  {
   "cell_type": "code",
   "execution_count": 617,
   "metadata": {},
   "outputs": [],
   "source": [
    "submission_pred_BG = bgcl.predict(submission_data_x)\n",
    "BG_submission_pred_df = pd.DataFrame(data=submission_pred_BG, columns=['greatstone_rating'])\n",
    "final_submission_BG = pd.concat([sample_submission['fund_id'], BG_submission_pred_df], axis=1)\n",
    "final_submission_BG.to_csv('BG_out.csv', index=False)"
   ]
  },
  {
   "cell_type": "code",
   "execution_count": null,
   "metadata": {},
   "outputs": [],
   "source": []
  },
  {
   "cell_type": "code",
   "execution_count": 619,
   "metadata": {},
   "outputs": [
    {
     "name": "stdout",
     "output_type": "stream",
     "text": [
      "Accuracy for XGBoost Classifier :  0.6584977933020475\n"
     ]
    }
   ],
   "source": [
    "import xgboost as xgb\n",
    "from sklearn.model_selection import cross_val_score\n",
    "\n",
    "xgb_clf = xgb.XGBClassifier(objective='multi:softmax')\n",
    "\n",
    "scores = cross_val_score(xgb_clf, X_train, y_train, cv=10)\n",
    "print('Accuracy for XGBoost Classifier : ', scores.mean())"
   ]
  },
  {
   "cell_type": "code",
   "execution_count": null,
   "metadata": {},
   "outputs": [],
   "source": []
  },
  {
   "cell_type": "code",
   "execution_count": 292,
   "metadata": {},
   "outputs": [
    {
     "name": "stdout",
     "output_type": "stream",
     "text": [
      "Accuracy for Logistic Regression:  0.33735714862440974\n"
     ]
    }
   ],
   "source": [
    "from sklearn.model_selection import cross_val_score\n",
    "from sklearn.pipeline import Pipeline\n",
    "from sklearn.preprocessing import StandardScaler\n",
    "from sklearn.linear_model import LogisticRegression\n",
    "\n",
    "pl_log_reg = Pipeline(steps=[('scaler',StandardScaler()),\n",
    "                             ('log_reg', LogisticRegression(multi_class='multinomial', solver='lbfgs', max_iter=200))])\n",
    "scores = cross_val_score(pl_log_reg, X_train_pca, y_train, cv=10,scoring='accuracy')\n",
    "print('Accuracy for Logistic Regression: ', scores.mean())"
   ]
  },
  {
   "cell_type": "code",
   "execution_count": 621,
   "metadata": {},
   "outputs": [
    {
     "name": "stdout",
     "output_type": "stream",
     "text": [
      "0.6461666666666667\n"
     ]
    }
   ],
   "source": [
    "from sklearn.ensemble import GradientBoostingClassifier\n",
    "gbcl = GradientBoostingClassifier(n_estimators = 50, learning_rate = 0.1, random_state=22)\n",
    "gbcl = gbcl.fit(X_train, y_train)\n",
    "pred_GB =gbcl.predict(X_test)\n",
    "acc_GB = accuracy_score(y_test, pred_GB)\n",
    "print(acc_GB)"
   ]
  },
  {
   "cell_type": "code",
   "execution_count": 622,
   "metadata": {},
   "outputs": [],
   "source": [
    "submission_pred_GB = gbcl.predict(submission_data_x)\n",
    "GB_submission_pred_df = pd.DataFrame(data=submission_pred_GB, columns=['greatstone_rating'])\n",
    "final_submission_GB = pd.concat([sample_submission['fund_id'], GB_submission_pred_df], axis=1)\n",
    "final_submission_GB.to_csv('GB_out.csv', index=False)"
   ]
  },
  {
   "cell_type": "markdown",
   "metadata": {},
   "source": [
    "### Very Low"
   ]
  },
  {
   "cell_type": "code",
   "execution_count": 623,
   "metadata": {},
   "outputs": [],
   "source": [
    "from sklearn.naive_bayes import GaussianNB\n",
    "\n",
    "gnb = GaussianNB()\n",
    "\n",
    "#Train the model using the training sets\n",
    "gnb.fit(X_train, y_train)\n",
    "\n",
    "#Predict the response for test dataset\n",
    "y_pred = gnb.predict(X_test)"
   ]
  },
  {
   "cell_type": "code",
   "execution_count": null,
   "metadata": {},
   "outputs": [
    {
     "name": "stdout",
     "output_type": "stream",
     "text": [
      "Accuracy: 0.15116666666666667\n"
     ]
    }
   ],
   "source": [
    "print(\"Accuracy:\",metrics.accuracy_score(y_test, y_pred))"
   ]
  },
  {
   "cell_type": "code",
   "execution_count": null,
   "metadata": {},
   "outputs": [],
   "source": [
    "from sklearn.svm import SVC \n",
    "svm_model_linear = SVC(kernel = 'linear', C = 1).fit(X_train, y_train) \n",
    "svm_predictions = svm_model_linear.predict(X_test) \n",
    "  \n",
    "# model accuracy for X_test   \n",
    "accuracy = svm_model_linear.score(X_test, y_test) \n",
    "print(accuracy)"
   ]
  },
  {
   "cell_type": "code",
   "execution_count": null,
   "metadata": {},
   "outputs": [],
   "source": [
    "# training a Naive Bayes classifier \n",
    "from sklearn.naive_bayes import GaussianNB \n",
    "gnb = GaussianNB().fit(X_train, y_train) \n",
    "gnb_predictions = gnb.predict(X_test) \n",
    "  \n",
    "\n",
    "# accuracy on X_test \n",
    "accuracy = gnb.score(X_test, y_test) \n",
    "print(accuracy) "
   ]
  },
  {
   "cell_type": "code",
   "execution_count": null,
   "metadata": {},
   "outputs": [],
   "source": [
    "from sklearn.neighbors import KNeighborsClassifier \n",
    "knn = KNeighborsClassifier(n_neighbors = 7).fit(X_train, y_train) \n",
    "  \n",
    "# accuracy on X_test \n",
    "accuracy = knn.score(X_test, y_test) \n",
    "print(accuracy) "
   ]
  },
  {
   "cell_type": "code",
   "execution_count": null,
   "metadata": {},
   "outputs": [],
   "source": []
  },
  {
   "cell_type": "code",
   "execution_count": null,
   "metadata": {},
   "outputs": [],
   "source": []
  },
  {
   "cell_type": "code",
   "execution_count": null,
   "metadata": {},
   "outputs": [],
   "source": []
  }
 ],
 "metadata": {
  "kernelspec": {
   "display_name": "Python 3",
   "language": "python",
   "name": "python3"
  },
  "language_info": {
   "codemirror_mode": {
    "name": "ipython",
    "version": 3
   },
   "file_extension": ".py",
   "mimetype": "text/x-python",
   "name": "python",
   "nbconvert_exporter": "python",
   "pygments_lexer": "ipython3",
   "version": "3.7.3"
  }
 },
 "nbformat": 4,
 "nbformat_minor": 2
}
