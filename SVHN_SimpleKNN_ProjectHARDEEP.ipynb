{
 "cells": [
  {
   "cell_type": "code",
   "execution_count": 12,
   "metadata": {},
   "outputs": [
    {
     "name": "stdout",
     "output_type": "stream",
     "text": [
      "<KeysViewHDF5 ['X_test', 'X_train', 'X_val', 'y_test', 'y_train', 'y_val']>\n"
     ]
    }
   ],
   "source": [
    "# Read hdf5 file having the dataset\n",
    "\n",
    "import numpy as np\n",
    "import h5py\n",
    "\n",
    "hf = h5py.File('SVHN_single_grey1.h5', 'r')\n",
    "\n",
    "print(hf.keys())"
   ]
  },
  {
   "cell_type": "code",
   "execution_count": 13,
   "metadata": {},
   "outputs": [
    {
     "data": {
      "text/plain": [
       "(42000, 32, 32)"
      ]
     },
     "execution_count": 13,
     "metadata": {},
     "output_type": "execute_result"
    }
   ],
   "source": [
    "X_train = hf.get('X_train')\n",
    "trainX = np.array(X_train)\n",
    "# normalize inputs from 0-255 to 0-1\n",
    "trainX = trainX / 255.0\n",
    "\n",
    "trainX.shape"
   ]
  },
  {
   "cell_type": "code",
   "execution_count": 14,
   "metadata": {},
   "outputs": [
    {
     "data": {
      "text/plain": [
       "(42000,)"
      ]
     },
     "execution_count": 14,
     "metadata": {},
     "output_type": "execute_result"
    }
   ],
   "source": [
    "y_train = hf.get('y_train')\n",
    "trainY = np.array(y_train)\n",
    "trainY.shape"
   ]
  },
  {
   "cell_type": "code",
   "execution_count": 15,
   "metadata": {},
   "outputs": [
    {
     "data": {
      "text/plain": [
       "(18000, 32, 32)"
      ]
     },
     "execution_count": 15,
     "metadata": {},
     "output_type": "execute_result"
    }
   ],
   "source": [
    "X_test = hf.get('X_test')\n",
    "testX = np.array(X_test)\n",
    "# normalize inputs from 0-255 to 0-1\n",
    "testX = testX / 255.0\n",
    "testX.shape"
   ]
  },
  {
   "cell_type": "code",
   "execution_count": 16,
   "metadata": {},
   "outputs": [
    {
     "data": {
      "text/plain": [
       "(18000,)"
      ]
     },
     "execution_count": 16,
     "metadata": {},
     "output_type": "execute_result"
    }
   ],
   "source": [
    "y_test = hf.get('y_test')\n",
    "testY = np.array(y_test)\n",
    "testY.shape"
   ]
  },
  {
   "cell_type": "code",
   "execution_count": 17,
   "metadata": {},
   "outputs": [],
   "source": [
    "from sklearn.neighbors import KNeighborsClassifier\n",
    "from sklearn.metrics import confusion_matrix\n",
    "from sklearn.metrics import classification_report"
   ]
  },
  {
   "cell_type": "code",
   "execution_count": 18,
   "metadata": {},
   "outputs": [],
   "source": [
    "# Changing dimensions to N x D = 32x32\n",
    "# Number of samples you want in training data.\n",
    "N = 42000\n",
    "x_tr = []\n",
    "for i in range(N):\n",
    "    x_tr.append(trainX[i,:].flatten())\n",
    "x_te = []\n",
    "for i in range(18000):\n",
    "    x_te.append(testX[i,:].flatten())"
   ]
  },
  {
   "cell_type": "code",
   "execution_count": 19,
   "metadata": {},
   "outputs": [
    {
     "data": {
      "text/plain": [
       "KNeighborsClassifier(algorithm='auto', leaf_size=30, metric='minkowski',\n",
       "           metric_params=None, n_jobs=None, n_neighbors=1, p=2,\n",
       "           weights='uniform')"
      ]
     },
     "execution_count": 19,
     "metadata": {},
     "output_type": "execute_result"
    }
   ],
   "source": [
    "\n",
    "model = KNeighborsClassifier(n_neighbors = 1)\n",
    "model.fit(x_tr, trainY)"
   ]
  },
  {
   "cell_type": "code",
   "execution_count": null,
   "metadata": {},
   "outputs": [],
   "source": [
    "y_pred = model.predict(x_te)"
   ]
  },
  {
   "cell_type": "code",
   "execution_count": 10,
   "metadata": {},
   "outputs": [
    {
     "name": "stdout",
     "output_type": "stream",
     "text": [
      "              precision    recall  f1-score   support\n",
      "\n",
      "           0       0.47      0.52      0.49      1814\n",
      "           1       0.50      0.57      0.53      1828\n",
      "           2       0.54      0.48      0.51      1803\n",
      "           3       0.37      0.35      0.36      1719\n",
      "           4       0.60      0.57      0.59      1812\n",
      "           5       0.38      0.33      0.36      1768\n",
      "           6       0.38      0.39      0.39      1832\n",
      "           7       0.63      0.59      0.61      1808\n",
      "           8       0.34      0.37      0.36      1812\n",
      "           9       0.39      0.40      0.40      1804\n",
      "\n",
      "   micro avg       0.46      0.46      0.46     18000\n",
      "   macro avg       0.46      0.46      0.46     18000\n",
      "weighted avg       0.46      0.46      0.46     18000\n",
      "\n"
     ]
    }
   ],
   "source": [
    "print(classification_report(testY, y_pred))"
   ]
  },
  {
   "cell_type": "code",
   "execution_count": 11,
   "metadata": {},
   "outputs": [
    {
     "name": "stdout",
     "output_type": "stream",
     "text": [
      "Confusion matrix\n",
      "[[ 935   43   51   64   71   65  185   40  170  190]\n",
      " [  51 1034  109  122  123   69   68  119   67   66]\n",
      " [  63  135  872  131   82   74   65  168   79  134]\n",
      " [  67  166  127  610   88  229   82   80  149  121]\n",
      " [  85  195   51   71 1039   55  111   35   98   72]\n",
      " [  94  103   71  220   54  588  203   48  205  182]\n",
      " [ 225   74   51   72  102  154  711   33  295  115]\n",
      " [  65  173  146  100   34   38   48 1071   53   80]\n",
      " [ 150   62   59  130   86  153  267   44  675  186]\n",
      " [ 238   87   89  115   60  113  115   65  192  730]]\n"
     ]
    }
   ],
   "source": [
    "print (\"Confusion matrix\")\n",
    "print(confusion_matrix(testY,y_pred))"
   ]
  },
  {
   "cell_type": "code",
   "execution_count": null,
   "metadata": {},
   "outputs": [],
   "source": []
  }
 ],
 "metadata": {
  "kernelspec": {
   "display_name": "Python 3",
   "language": "python",
   "name": "python3"
  },
  "language_info": {
   "codemirror_mode": {
    "name": "ipython",
    "version": 3
   },
   "file_extension": ".py",
   "mimetype": "text/x-python",
   "name": "python",
   "nbconvert_exporter": "python",
   "pygments_lexer": "ipython3",
   "version": "3.7.3"
  }
 },
 "nbformat": 4,
 "nbformat_minor": 2
}
